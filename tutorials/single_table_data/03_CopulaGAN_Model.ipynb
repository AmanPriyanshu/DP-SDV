{
 "cells": [
  {
   "cell_type": "markdown",
   "metadata": {},
   "source": [
    "CopulaGAN Model\n",
    "===============\n",
    "\n",
    "In this guide we will go through a series of steps that will let you\n",
    "discover functionalities of the `CopulaGAN` model, including how to:\n",
    "\n",
    "-   Create an instance of `CopulaGAN`.\n",
    "-   Fit the instance to your data.\n",
    "-   Generate synthetic versions of your data.\n",
    "-   Use `CopulaGAN` to anonymize PII information.\n",
    "-   Customize the data transformations to improve the learning process.\n",
    "-   Specify the column distributions to improve the output quality.\n",
    "-   Specify hyperparameters to improve the output quality.\n",
    "\n",
    "What is CopulaGAN?\n",
    "------------------\n",
    "\n",
    "The `sdv.tabular.CopulaGAN` model is a variation of the\n",
    "[ctgan](ctgan.ipynb) which takes advantage of the CDF\n",
    "based transformation that the GaussianCopulas apply to make the\n",
    "underlying CTGAN model task of learning the data easier.\n",
    "\n",
    "Let\\'s now discover how to learn a dataset and later on generate\n",
    "synthetic data with the same format and statistical properties by using\n",
    "the `CopulaGAN` class from SDV.\n",
    "\n",
    "Quick Usage\n",
    "-----------\n",
    "\n",
    "We will start by loading one of our demo datasets, the\n",
    "`student_placements`, which contains information about MBA students that\n",
    "applied for placements during the year 2020.\n",
    "\n",
    "<div class=\"alert alert-warning\">\n",
    "\n",
    "**Warning**\n",
    "\n",
    "In order to follow this guide you need to have `ctgan` installed on your\n",
    "system. If you have not done it yet, please install `ctgan` now by\n",
    "executing the command `pip install sdv` in a terminal.\n",
    "\n",
    "</div>"
   ]
  },
  {
   "cell_type": "code",
   "execution_count": 1,
   "metadata": {
    "attributes": {
     "classes": [
      ""
     ],
     "id": ""
    }
   },
   "outputs": [
    {
     "data": {
      "text/html": [
       "<div>\n",
       "<style scoped>\n",
       "    .dataframe tbody tr th:only-of-type {\n",
       "        vertical-align: middle;\n",
       "    }\n",
       "\n",
       "    .dataframe tbody tr th {\n",
       "        vertical-align: top;\n",
       "    }\n",
       "\n",
       "    .dataframe thead th {\n",
       "        text-align: right;\n",
       "    }\n",
       "</style>\n",
       "<table border=\"1\" class=\"dataframe\">\n",
       "  <thead>\n",
       "    <tr style=\"text-align: right;\">\n",
       "      <th></th>\n",
       "      <th>student_id</th>\n",
       "      <th>gender</th>\n",
       "      <th>second_perc</th>\n",
       "      <th>high_perc</th>\n",
       "      <th>high_spec</th>\n",
       "      <th>degree_perc</th>\n",
       "      <th>degree_type</th>\n",
       "      <th>work_experience</th>\n",
       "      <th>experience_years</th>\n",
       "      <th>employability_perc</th>\n",
       "      <th>mba_spec</th>\n",
       "      <th>mba_perc</th>\n",
       "      <th>salary</th>\n",
       "      <th>placed</th>\n",
       "      <th>start_date</th>\n",
       "      <th>end_date</th>\n",
       "      <th>duration</th>\n",
       "    </tr>\n",
       "  </thead>\n",
       "  <tbody>\n",
       "    <tr>\n",
       "      <th>0</th>\n",
       "      <td>17264</td>\n",
       "      <td>M</td>\n",
       "      <td>67.00</td>\n",
       "      <td>91.00</td>\n",
       "      <td>Commerce</td>\n",
       "      <td>58.00</td>\n",
       "      <td>Sci&amp;Tech</td>\n",
       "      <td>False</td>\n",
       "      <td>0</td>\n",
       "      <td>55.0</td>\n",
       "      <td>Mkt&amp;HR</td>\n",
       "      <td>58.80</td>\n",
       "      <td>27000.0</td>\n",
       "      <td>True</td>\n",
       "      <td>2020-07-23</td>\n",
       "      <td>2020-10-12</td>\n",
       "      <td>3.0</td>\n",
       "    </tr>\n",
       "    <tr>\n",
       "      <th>1</th>\n",
       "      <td>17265</td>\n",
       "      <td>M</td>\n",
       "      <td>79.33</td>\n",
       "      <td>78.33</td>\n",
       "      <td>Science</td>\n",
       "      <td>77.48</td>\n",
       "      <td>Sci&amp;Tech</td>\n",
       "      <td>True</td>\n",
       "      <td>1</td>\n",
       "      <td>86.5</td>\n",
       "      <td>Mkt&amp;Fin</td>\n",
       "      <td>66.28</td>\n",
       "      <td>20000.0</td>\n",
       "      <td>True</td>\n",
       "      <td>2020-01-11</td>\n",
       "      <td>2020-04-09</td>\n",
       "      <td>3.0</td>\n",
       "    </tr>\n",
       "    <tr>\n",
       "      <th>2</th>\n",
       "      <td>17266</td>\n",
       "      <td>M</td>\n",
       "      <td>65.00</td>\n",
       "      <td>68.00</td>\n",
       "      <td>Arts</td>\n",
       "      <td>64.00</td>\n",
       "      <td>Comm&amp;Mgmt</td>\n",
       "      <td>False</td>\n",
       "      <td>0</td>\n",
       "      <td>75.0</td>\n",
       "      <td>Mkt&amp;Fin</td>\n",
       "      <td>57.80</td>\n",
       "      <td>25000.0</td>\n",
       "      <td>True</td>\n",
       "      <td>2020-01-26</td>\n",
       "      <td>2020-07-13</td>\n",
       "      <td>6.0</td>\n",
       "    </tr>\n",
       "    <tr>\n",
       "      <th>3</th>\n",
       "      <td>17267</td>\n",
       "      <td>M</td>\n",
       "      <td>56.00</td>\n",
       "      <td>52.00</td>\n",
       "      <td>Science</td>\n",
       "      <td>52.00</td>\n",
       "      <td>Sci&amp;Tech</td>\n",
       "      <td>False</td>\n",
       "      <td>0</td>\n",
       "      <td>66.0</td>\n",
       "      <td>Mkt&amp;HR</td>\n",
       "      <td>59.43</td>\n",
       "      <td>NaN</td>\n",
       "      <td>False</td>\n",
       "      <td>NaT</td>\n",
       "      <td>NaT</td>\n",
       "      <td>NaN</td>\n",
       "    </tr>\n",
       "    <tr>\n",
       "      <th>4</th>\n",
       "      <td>17268</td>\n",
       "      <td>M</td>\n",
       "      <td>85.80</td>\n",
       "      <td>73.60</td>\n",
       "      <td>Commerce</td>\n",
       "      <td>73.30</td>\n",
       "      <td>Comm&amp;Mgmt</td>\n",
       "      <td>False</td>\n",
       "      <td>0</td>\n",
       "      <td>96.8</td>\n",
       "      <td>Mkt&amp;Fin</td>\n",
       "      <td>55.50</td>\n",
       "      <td>42500.0</td>\n",
       "      <td>True</td>\n",
       "      <td>2020-07-04</td>\n",
       "      <td>2020-09-27</td>\n",
       "      <td>3.0</td>\n",
       "    </tr>\n",
       "  </tbody>\n",
       "</table>\n",
       "</div>"
      ],
      "text/plain": [
       "   student_id gender  second_perc  high_perc high_spec  degree_perc  \\\n",
       "0       17264      M        67.00      91.00  Commerce        58.00   \n",
       "1       17265      M        79.33      78.33   Science        77.48   \n",
       "2       17266      M        65.00      68.00      Arts        64.00   \n",
       "3       17267      M        56.00      52.00   Science        52.00   \n",
       "4       17268      M        85.80      73.60  Commerce        73.30   \n",
       "\n",
       "  degree_type  work_experience  experience_years  employability_perc mba_spec  \\\n",
       "0    Sci&Tech            False                 0                55.0   Mkt&HR   \n",
       "1    Sci&Tech             True                 1                86.5  Mkt&Fin   \n",
       "2   Comm&Mgmt            False                 0                75.0  Mkt&Fin   \n",
       "3    Sci&Tech            False                 0                66.0   Mkt&HR   \n",
       "4   Comm&Mgmt            False                 0                96.8  Mkt&Fin   \n",
       "\n",
       "   mba_perc   salary  placed start_date   end_date duration  \n",
       "0     58.80  27000.0    True 2020-07-23 2020-10-12      3.0  \n",
       "1     66.28  20000.0    True 2020-01-11 2020-04-09      3.0  \n",
       "2     57.80  25000.0    True 2020-01-26 2020-07-13      6.0  \n",
       "3     59.43      NaN   False        NaT        NaT      NaN  \n",
       "4     55.50  42500.0    True 2020-07-04 2020-09-27      3.0  "
      ]
     },
     "execution_count": 1,
     "metadata": {},
     "output_type": "execute_result"
    }
   ],
   "source": [
    "from sdv.demo import load_tabular_demo\n",
    "\n",
    "data = load_tabular_demo('student_placements')\n",
    "data.head()"
   ]
  },
  {
   "cell_type": "markdown",
   "metadata": {},
   "source": [
    "As you can see, this table contains information about students which\n",
    "includes, among other things:\n",
    "\n",
    "-   Their id and gender\n",
    "-   Their grades and specializations\n",
    "-   Their work experience\n",
    "-   The salary that they where offered\n",
    "-   The duration and dates of their placement\n",
    "\n",
    "You will notice that there is data with the following characteristics:\n",
    "\n",
    "-   There are float, integer, boolean, categorical and datetime values.\n",
    "-   There are some variables that have missing data. In particular, all\n",
    "    the data related to the placement details is missing in the rows\n",
    "    where the student was not placed.\n",
    "\n",
    "Let us use `CopulaGAN` to learn this data and then sample synthetic data\n",
    "about new students to see how well de model captures the characteristics\n",
    "indicated above. In order to do this you will need to:\n",
    "\n",
    "-   Import the `sdv.tabular.CopulaGAN` class and create an instance of\n",
    "    it.\n",
    "-   Call its `fit` method passing our table.\n",
    "-   Call its `sample` method indicating the number of synthetic rows\n",
    "    that you want to generate."
   ]
  },
  {
   "cell_type": "code",
   "execution_count": 2,
   "metadata": {
    "attributes": {
     "classes": [
      ""
     ],
     "id": ""
    }
   },
   "outputs": [],
   "source": [
    "from sdv.tabular import CopulaGAN\n",
    "\n",
    "model = CopulaGAN()\n",
    "model.fit(data)"
   ]
  },
  {
   "cell_type": "markdown",
   "metadata": {},
   "source": [
    "<div class=\"alert alert-info\">\n",
    "\n",
    "**Note**\n",
    "\n",
    "Notice that the model `fitting` process took care of transforming the\n",
    "different fields using the appropriate [Reversible Data\n",
    "Transforms](http://github.com/sdv-dev/RDT) to ensure that the data has a\n",
    "format that the underlying CTGANSynthesizer class can handle.\n",
    "\n",
    "</div>\n",
    "\n",
    "### Generate synthetic data from the model\n",
    "\n",
    "Once the modeling has finished you are ready to generate new synthetic\n",
    "data by calling the `sample` method from your model passing the number\n",
    "of rows that we want to generate."
   ]
  },
  {
   "cell_type": "code",
   "execution_count": 3,
   "metadata": {
    "attributes": {
     "classes": [
      ""
     ],
     "id": ""
    }
   },
   "outputs": [],
   "source": [
    "new_data = model.sample(200)"
   ]
  },
  {
   "cell_type": "markdown",
   "metadata": {},
   "source": [
    "This will return a table identical to the one which the model was fitted\n",
    "on, but filled with new data which resembles the original one."
   ]
  },
  {
   "cell_type": "code",
   "execution_count": 4,
   "metadata": {
    "attributes": {
     "classes": [
      ""
     ],
     "id": ""
    }
   },
   "outputs": [
    {
     "data": {
      "text/html": [
       "<div>\n",
       "<style scoped>\n",
       "    .dataframe tbody tr th:only-of-type {\n",
       "        vertical-align: middle;\n",
       "    }\n",
       "\n",
       "    .dataframe tbody tr th {\n",
       "        vertical-align: top;\n",
       "    }\n",
       "\n",
       "    .dataframe thead th {\n",
       "        text-align: right;\n",
       "    }\n",
       "</style>\n",
       "<table border=\"1\" class=\"dataframe\">\n",
       "  <thead>\n",
       "    <tr style=\"text-align: right;\">\n",
       "      <th></th>\n",
       "      <th>student_id</th>\n",
       "      <th>gender</th>\n",
       "      <th>second_perc</th>\n",
       "      <th>high_perc</th>\n",
       "      <th>high_spec</th>\n",
       "      <th>degree_perc</th>\n",
       "      <th>degree_type</th>\n",
       "      <th>work_experience</th>\n",
       "      <th>experience_years</th>\n",
       "      <th>employability_perc</th>\n",
       "      <th>mba_spec</th>\n",
       "      <th>mba_perc</th>\n",
       "      <th>salary</th>\n",
       "      <th>placed</th>\n",
       "      <th>start_date</th>\n",
       "      <th>end_date</th>\n",
       "      <th>duration</th>\n",
       "    </tr>\n",
       "  </thead>\n",
       "  <tbody>\n",
       "    <tr>\n",
       "      <th>0</th>\n",
       "      <td>17470</td>\n",
       "      <td>F</td>\n",
       "      <td>78.620658</td>\n",
       "      <td>75.010346</td>\n",
       "      <td>Science</td>\n",
       "      <td>72.610923</td>\n",
       "      <td>Comm&amp;Mgmt</td>\n",
       "      <td>False</td>\n",
       "      <td>1</td>\n",
       "      <td>59.965011</td>\n",
       "      <td>Mkt&amp;Fin</td>\n",
       "      <td>64.500423</td>\n",
       "      <td>28229.482296</td>\n",
       "      <td>False</td>\n",
       "      <td>2020-01-07</td>\n",
       "      <td>NaT</td>\n",
       "      <td>3.0</td>\n",
       "    </tr>\n",
       "    <tr>\n",
       "      <th>1</th>\n",
       "      <td>17369</td>\n",
       "      <td>F</td>\n",
       "      <td>52.695851</td>\n",
       "      <td>72.169112</td>\n",
       "      <td>Science</td>\n",
       "      <td>51.186574</td>\n",
       "      <td>Sci&amp;Tech</td>\n",
       "      <td>False</td>\n",
       "      <td>0</td>\n",
       "      <td>64.760604</td>\n",
       "      <td>Mkt&amp;HR</td>\n",
       "      <td>65.404075</td>\n",
       "      <td>17509.633403</td>\n",
       "      <td>False</td>\n",
       "      <td>2020-01-09</td>\n",
       "      <td>2020-07-16</td>\n",
       "      <td>6.0</td>\n",
       "    </tr>\n",
       "    <tr>\n",
       "      <th>2</th>\n",
       "      <td>17267</td>\n",
       "      <td>F</td>\n",
       "      <td>58.219477</td>\n",
       "      <td>93.662239</td>\n",
       "      <td>Science</td>\n",
       "      <td>61.447770</td>\n",
       "      <td>Comm&amp;Mgmt</td>\n",
       "      <td>False</td>\n",
       "      <td>0</td>\n",
       "      <td>50.536230</td>\n",
       "      <td>Mkt&amp;HR</td>\n",
       "      <td>76.772104</td>\n",
       "      <td>28741.716698</td>\n",
       "      <td>True</td>\n",
       "      <td>2020-01-03</td>\n",
       "      <td>2020-03-15</td>\n",
       "      <td>3.0</td>\n",
       "    </tr>\n",
       "    <tr>\n",
       "      <th>3</th>\n",
       "      <td>17476</td>\n",
       "      <td>M</td>\n",
       "      <td>41.102023</td>\n",
       "      <td>74.584097</td>\n",
       "      <td>Commerce</td>\n",
       "      <td>45.167612</td>\n",
       "      <td>Comm&amp;Mgmt</td>\n",
       "      <td>False</td>\n",
       "      <td>1</td>\n",
       "      <td>53.934075</td>\n",
       "      <td>Mkt&amp;Fin</td>\n",
       "      <td>62.835993</td>\n",
       "      <td>27650.002885</td>\n",
       "      <td>True</td>\n",
       "      <td>NaT</td>\n",
       "      <td>2020-10-14</td>\n",
       "      <td>6.0</td>\n",
       "    </tr>\n",
       "    <tr>\n",
       "      <th>4</th>\n",
       "      <td>17476</td>\n",
       "      <td>F</td>\n",
       "      <td>41.527966</td>\n",
       "      <td>66.695972</td>\n",
       "      <td>Commerce</td>\n",
       "      <td>50.291165</td>\n",
       "      <td>Comm&amp;Mgmt</td>\n",
       "      <td>False</td>\n",
       "      <td>1</td>\n",
       "      <td>69.386630</td>\n",
       "      <td>Mkt&amp;Fin</td>\n",
       "      <td>74.238222</td>\n",
       "      <td>30276.702886</td>\n",
       "      <td>True</td>\n",
       "      <td>2020-08-04</td>\n",
       "      <td>2020-05-04</td>\n",
       "      <td>NaN</td>\n",
       "    </tr>\n",
       "  </tbody>\n",
       "</table>\n",
       "</div>"
      ],
      "text/plain": [
       "   student_id gender  second_perc  high_perc high_spec  degree_perc  \\\n",
       "0       17470      F    78.620658  75.010346   Science    72.610923   \n",
       "1       17369      F    52.695851  72.169112   Science    51.186574   \n",
       "2       17267      F    58.219477  93.662239   Science    61.447770   \n",
       "3       17476      M    41.102023  74.584097  Commerce    45.167612   \n",
       "4       17476      F    41.527966  66.695972  Commerce    50.291165   \n",
       "\n",
       "  degree_type  work_experience  experience_years  employability_perc mba_spec  \\\n",
       "0   Comm&Mgmt            False                 1           59.965011  Mkt&Fin   \n",
       "1    Sci&Tech            False                 0           64.760604   Mkt&HR   \n",
       "2   Comm&Mgmt            False                 0           50.536230   Mkt&HR   \n",
       "3   Comm&Mgmt            False                 1           53.934075  Mkt&Fin   \n",
       "4   Comm&Mgmt            False                 1           69.386630  Mkt&Fin   \n",
       "\n",
       "    mba_perc        salary  placed start_date   end_date duration  \n",
       "0  64.500423  28229.482296   False 2020-01-07        NaT      3.0  \n",
       "1  65.404075  17509.633403   False 2020-01-09 2020-07-16      6.0  \n",
       "2  76.772104  28741.716698    True 2020-01-03 2020-03-15      3.0  \n",
       "3  62.835993  27650.002885    True        NaT 2020-10-14      6.0  \n",
       "4  74.238222  30276.702886    True 2020-08-04 2020-05-04      NaN  "
      ]
     },
     "execution_count": 4,
     "metadata": {},
     "output_type": "execute_result"
    }
   ],
   "source": [
    "new_data.head()"
   ]
  },
  {
   "cell_type": "markdown",
   "metadata": {},
   "source": [
    "<div class=\"alert alert-info\">\n",
    "\n",
    "**Note**\n",
    "\n",
    "You can control the number of rows by specifying the number of `samples`\n",
    "in the `model.sample(<num_rows>)`. To test, try `model.sample(10000)`.\n",
    "Note that the original table only had \\~200 rows.\n",
    "\n",
    "</div>\n",
    "\n",
    "### Save and Load the model\n",
    "\n",
    "In many scenarios it will be convenient to generate synthetic versions\n",
    "of your data directly in systems that do not have access to the original\n",
    "data source. For example, if you may want to generate testing data on\n",
    "the fly inside a testing environment that does not have access to your\n",
    "production database. In these scenarios, fitting the model with real\n",
    "data every time that you need to generate new data is feasible, so you\n",
    "will need to fit a model in your production environment, save the fitted\n",
    "model into a file, send this file to the testing environment and then\n",
    "load it there to be able to `sample` from it.\n",
    "\n",
    "Let\\'s see how this process works.\n",
    "\n",
    "#### Save and share the model\n",
    "\n",
    "Once you have fitted the model, all you need to do is call its `save`\n",
    "method passing the name of the file in which you want to save the model.\n",
    "Note that the extension of the filename is not relevant, but we will be\n",
    "using the `.pkl` extension to highlight that the serialization protocol\n",
    "used is [pickle](https://docs.python.org/3/library/pickle.html)."
   ]
  },
  {
   "cell_type": "code",
   "execution_count": 5,
   "metadata": {
    "attributes": {
     "classes": [
      ""
     ],
     "id": ""
    }
   },
   "outputs": [],
   "source": [
    "model.save('my_model.pkl')"
   ]
  },
  {
   "cell_type": "markdown",
   "metadata": {},
   "source": [
    "This will have created a file called `my_model.pkl` in the same\n",
    "directory in which you are running SDV.\n",
    "\n",
    "<div class=\"alert alert-info\">\n",
    "\n",
    "**Important**\n",
    "\n",
    "If you inspect the generated file you will notice that its size is much\n",
    "smaller than the size of the data that you used to generate it. This is\n",
    "because the serialized model contains **no information about the\n",
    "original data**, other than the parameters it needs to generate\n",
    "synthetic versions of it. This means that you can safely share this\n",
    "`my_model.pkl` file without the risc of disclosing any of your real\n",
    "data!\n",
    "\n",
    "</div>\n",
    "\n",
    "#### Load the model and generate new data\n",
    "\n",
    "The file you just generated can be send over to the system where the\n",
    "synthetic data will be generated. Once it is there, you can load it\n",
    "using the `CopulaGAN.load` method, and then you are ready to sample new\n",
    "data from the loaded instance:"
   ]
  },
  {
   "cell_type": "code",
   "execution_count": 6,
   "metadata": {
    "attributes": {
     "classes": [
      ""
     ],
     "id": ""
    }
   },
   "outputs": [],
   "source": [
    "loaded = CopulaGAN.load('my_model.pkl')\n",
    "new_data = loaded.sample(200)"
   ]
  },
  {
   "cell_type": "markdown",
   "metadata": {},
   "source": [
    "<div class=\"alert alert-warning\">\n",
    "\n",
    "**Warning**\n",
    "\n",
    "Notice that the system where the model is loaded needs to also have\n",
    "`sdv` and `ctgan` installed, otherwise it will not be able to load the\n",
    "model and use it.\n",
    "\n",
    "</div>\n",
    "\n",
    "### Specifying the Primary Key of the table\n",
    "\n",
    "One of the first things that you may have noticed when looking that demo\n",
    "data is that there is a `student_id` column which acts as the primary\n",
    "key of the table, and which is supposed to have unique values. Indeed,\n",
    "if we look at the number of times that each value appears, we see that\n",
    "all of them appear at most once:"
   ]
  },
  {
   "cell_type": "code",
   "execution_count": 7,
   "metadata": {
    "attributes": {
     "classes": [
      ""
     ],
     "id": ""
    }
   },
   "outputs": [
    {
     "data": {
      "text/plain": [
       "1"
      ]
     },
     "execution_count": 7,
     "metadata": {},
     "output_type": "execute_result"
    }
   ],
   "source": [
    "data.student_id.value_counts().max()"
   ]
  },
  {
   "cell_type": "markdown",
   "metadata": {},
   "source": [
    "However, if we look at the synthetic data that we generated, we observe\n",
    "that there are some values that appear more than once:"
   ]
  },
  {
   "cell_type": "code",
   "execution_count": 8,
   "metadata": {
    "attributes": {
     "classes": [
      ""
     ],
     "id": ""
    }
   },
   "outputs": [
    {
     "data": {
      "text/html": [
       "<div>\n",
       "<style scoped>\n",
       "    .dataframe tbody tr th:only-of-type {\n",
       "        vertical-align: middle;\n",
       "    }\n",
       "\n",
       "    .dataframe tbody tr th {\n",
       "        vertical-align: top;\n",
       "    }\n",
       "\n",
       "    .dataframe thead th {\n",
       "        text-align: right;\n",
       "    }\n",
       "</style>\n",
       "<table border=\"1\" class=\"dataframe\">\n",
       "  <thead>\n",
       "    <tr style=\"text-align: right;\">\n",
       "      <th></th>\n",
       "      <th>student_id</th>\n",
       "      <th>gender</th>\n",
       "      <th>second_perc</th>\n",
       "      <th>high_perc</th>\n",
       "      <th>high_spec</th>\n",
       "      <th>degree_perc</th>\n",
       "      <th>degree_type</th>\n",
       "      <th>work_experience</th>\n",
       "      <th>experience_years</th>\n",
       "      <th>employability_perc</th>\n",
       "      <th>mba_spec</th>\n",
       "      <th>mba_perc</th>\n",
       "      <th>salary</th>\n",
       "      <th>placed</th>\n",
       "      <th>start_date</th>\n",
       "      <th>end_date</th>\n",
       "      <th>duration</th>\n",
       "    </tr>\n",
       "  </thead>\n",
       "  <tbody>\n",
       "    <tr>\n",
       "      <th>16</th>\n",
       "      <td>17466</td>\n",
       "      <td>F</td>\n",
       "      <td>62.122621</td>\n",
       "      <td>68.183924</td>\n",
       "      <td>Science</td>\n",
       "      <td>69.998443</td>\n",
       "      <td>Comm&amp;Mgmt</td>\n",
       "      <td>False</td>\n",
       "      <td>1</td>\n",
       "      <td>57.513840</td>\n",
       "      <td>Mkt&amp;HR</td>\n",
       "      <td>70.163049</td>\n",
       "      <td>18473.843153</td>\n",
       "      <td>False</td>\n",
       "      <td>2020-01-04</td>\n",
       "      <td>NaT</td>\n",
       "      <td>3.0</td>\n",
       "    </tr>\n",
       "    <tr>\n",
       "      <th>41</th>\n",
       "      <td>17466</td>\n",
       "      <td>M</td>\n",
       "      <td>70.309601</td>\n",
       "      <td>72.138998</td>\n",
       "      <td>Commerce</td>\n",
       "      <td>56.377473</td>\n",
       "      <td>Comm&amp;Mgmt</td>\n",
       "      <td>False</td>\n",
       "      <td>0</td>\n",
       "      <td>79.298027</td>\n",
       "      <td>Mkt&amp;Fin</td>\n",
       "      <td>62.451835</td>\n",
       "      <td>36177.319560</td>\n",
       "      <td>True</td>\n",
       "      <td>2020-01-03</td>\n",
       "      <td>2020-10-21</td>\n",
       "      <td>3.0</td>\n",
       "    </tr>\n",
       "    <tr>\n",
       "      <th>57</th>\n",
       "      <td>17466</td>\n",
       "      <td>M</td>\n",
       "      <td>51.737141</td>\n",
       "      <td>59.935126</td>\n",
       "      <td>Commerce</td>\n",
       "      <td>51.718698</td>\n",
       "      <td>Sci&amp;Tech</td>\n",
       "      <td>False</td>\n",
       "      <td>1</td>\n",
       "      <td>97.522797</td>\n",
       "      <td>Mkt&amp;HR</td>\n",
       "      <td>53.773570</td>\n",
       "      <td>29065.582813</td>\n",
       "      <td>False</td>\n",
       "      <td>2020-01-12</td>\n",
       "      <td>NaT</td>\n",
       "      <td>NaN</td>\n",
       "    </tr>\n",
       "    <tr>\n",
       "      <th>77</th>\n",
       "      <td>17466</td>\n",
       "      <td>F</td>\n",
       "      <td>47.183353</td>\n",
       "      <td>75.043801</td>\n",
       "      <td>Science</td>\n",
       "      <td>53.764331</td>\n",
       "      <td>Sci&amp;Tech</td>\n",
       "      <td>False</td>\n",
       "      <td>1</td>\n",
       "      <td>54.879444</td>\n",
       "      <td>Mkt&amp;HR</td>\n",
       "      <td>59.795092</td>\n",
       "      <td>26827.463859</td>\n",
       "      <td>False</td>\n",
       "      <td>2020-01-04</td>\n",
       "      <td>2020-10-06</td>\n",
       "      <td>6.0</td>\n",
       "    </tr>\n",
       "    <tr>\n",
       "      <th>83</th>\n",
       "      <td>17466</td>\n",
       "      <td>M</td>\n",
       "      <td>60.037097</td>\n",
       "      <td>74.193971</td>\n",
       "      <td>Commerce</td>\n",
       "      <td>60.174889</td>\n",
       "      <td>Comm&amp;Mgmt</td>\n",
       "      <td>False</td>\n",
       "      <td>1</td>\n",
       "      <td>50.000000</td>\n",
       "      <td>Mkt&amp;HR</td>\n",
       "      <td>63.803172</td>\n",
       "      <td>NaN</td>\n",
       "      <td>False</td>\n",
       "      <td>2020-02-04</td>\n",
       "      <td>NaT</td>\n",
       "      <td>6.0</td>\n",
       "    </tr>\n",
       "    <tr>\n",
       "      <th>110</th>\n",
       "      <td>17466</td>\n",
       "      <td>M</td>\n",
       "      <td>50.707861</td>\n",
       "      <td>76.793710</td>\n",
       "      <td>Commerce</td>\n",
       "      <td>55.628175</td>\n",
       "      <td>Others</td>\n",
       "      <td>False</td>\n",
       "      <td>1</td>\n",
       "      <td>50.415632</td>\n",
       "      <td>Mkt&amp;Fin</td>\n",
       "      <td>68.002958</td>\n",
       "      <td>NaN</td>\n",
       "      <td>False</td>\n",
       "      <td>2020-01-14</td>\n",
       "      <td>2020-04-22</td>\n",
       "      <td>NaN</td>\n",
       "    </tr>\n",
       "    <tr>\n",
       "      <th>191</th>\n",
       "      <td>17466</td>\n",
       "      <td>F</td>\n",
       "      <td>82.778168</td>\n",
       "      <td>74.400980</td>\n",
       "      <td>Science</td>\n",
       "      <td>41.198192</td>\n",
       "      <td>Comm&amp;Mgmt</td>\n",
       "      <td>False</td>\n",
       "      <td>0</td>\n",
       "      <td>71.046310</td>\n",
       "      <td>Mkt&amp;Fin</td>\n",
       "      <td>66.541435</td>\n",
       "      <td>79993.227978</td>\n",
       "      <td>True</td>\n",
       "      <td>2020-02-12</td>\n",
       "      <td>NaT</td>\n",
       "      <td>3.0</td>\n",
       "    </tr>\n",
       "  </tbody>\n",
       "</table>\n",
       "</div>"
      ],
      "text/plain": [
       "     student_id gender  second_perc  high_perc high_spec  degree_perc  \\\n",
       "16        17466      F    62.122621  68.183924   Science    69.998443   \n",
       "41        17466      M    70.309601  72.138998  Commerce    56.377473   \n",
       "57        17466      M    51.737141  59.935126  Commerce    51.718698   \n",
       "77        17466      F    47.183353  75.043801   Science    53.764331   \n",
       "83        17466      M    60.037097  74.193971  Commerce    60.174889   \n",
       "110       17466      M    50.707861  76.793710  Commerce    55.628175   \n",
       "191       17466      F    82.778168  74.400980   Science    41.198192   \n",
       "\n",
       "    degree_type  work_experience  experience_years  employability_perc  \\\n",
       "16    Comm&Mgmt            False                 1           57.513840   \n",
       "41    Comm&Mgmt            False                 0           79.298027   \n",
       "57     Sci&Tech            False                 1           97.522797   \n",
       "77     Sci&Tech            False                 1           54.879444   \n",
       "83    Comm&Mgmt            False                 1           50.000000   \n",
       "110      Others            False                 1           50.415632   \n",
       "191   Comm&Mgmt            False                 0           71.046310   \n",
       "\n",
       "    mba_spec   mba_perc        salary  placed start_date   end_date duration  \n",
       "16    Mkt&HR  70.163049  18473.843153   False 2020-01-04        NaT      3.0  \n",
       "41   Mkt&Fin  62.451835  36177.319560    True 2020-01-03 2020-10-21      3.0  \n",
       "57    Mkt&HR  53.773570  29065.582813   False 2020-01-12        NaT      NaN  \n",
       "77    Mkt&HR  59.795092  26827.463859   False 2020-01-04 2020-10-06      6.0  \n",
       "83    Mkt&HR  63.803172           NaN   False 2020-02-04        NaT      6.0  \n",
       "110  Mkt&Fin  68.002958           NaN   False 2020-01-14 2020-04-22      NaN  \n",
       "191  Mkt&Fin  66.541435  79993.227978    True 2020-02-12        NaT      3.0  "
      ]
     },
     "execution_count": 8,
     "metadata": {},
     "output_type": "execute_result"
    }
   ],
   "source": [
    "new_data[new_data.student_id == new_data.student_id.value_counts().index[0]]"
   ]
  },
  {
   "cell_type": "markdown",
   "metadata": {},
   "source": [
    "This happens because the model was not notified at any point about the\n",
    "fact that the `student_id` had to be unique, so when it generates new\n",
    "data it will provoke collisions sooner or later. In order to solve this,\n",
    "we can pass the argument `primary_key` to our model when we create it,\n",
    "indicating the name of the column that is the index of the table."
   ]
  },
  {
   "cell_type": "code",
   "execution_count": 9,
   "metadata": {
    "attributes": {
     "classes": [
      ""
     ],
     "id": ""
    }
   },
   "outputs": [
    {
     "data": {
      "text/html": [
       "<div>\n",
       "<style scoped>\n",
       "    .dataframe tbody tr th:only-of-type {\n",
       "        vertical-align: middle;\n",
       "    }\n",
       "\n",
       "    .dataframe tbody tr th {\n",
       "        vertical-align: top;\n",
       "    }\n",
       "\n",
       "    .dataframe thead th {\n",
       "        text-align: right;\n",
       "    }\n",
       "</style>\n",
       "<table border=\"1\" class=\"dataframe\">\n",
       "  <thead>\n",
       "    <tr style=\"text-align: right;\">\n",
       "      <th></th>\n",
       "      <th>student_id</th>\n",
       "      <th>gender</th>\n",
       "      <th>second_perc</th>\n",
       "      <th>high_perc</th>\n",
       "      <th>high_spec</th>\n",
       "      <th>degree_perc</th>\n",
       "      <th>degree_type</th>\n",
       "      <th>work_experience</th>\n",
       "      <th>experience_years</th>\n",
       "      <th>employability_perc</th>\n",
       "      <th>mba_spec</th>\n",
       "      <th>mba_perc</th>\n",
       "      <th>salary</th>\n",
       "      <th>placed</th>\n",
       "      <th>start_date</th>\n",
       "      <th>end_date</th>\n",
       "      <th>duration</th>\n",
       "    </tr>\n",
       "  </thead>\n",
       "  <tbody>\n",
       "    <tr>\n",
       "      <th>0</th>\n",
       "      <td>0</td>\n",
       "      <td>F</td>\n",
       "      <td>83.905766</td>\n",
       "      <td>57.159569</td>\n",
       "      <td>Commerce</td>\n",
       "      <td>47.938867</td>\n",
       "      <td>Comm&amp;Mgmt</td>\n",
       "      <td>False</td>\n",
       "      <td>0</td>\n",
       "      <td>58.621173</td>\n",
       "      <td>Mkt&amp;HR</td>\n",
       "      <td>57.472606</td>\n",
       "      <td>31191.788409</td>\n",
       "      <td>True</td>\n",
       "      <td>2020-02-11</td>\n",
       "      <td>2021-01-09</td>\n",
       "      <td>3.0</td>\n",
       "    </tr>\n",
       "    <tr>\n",
       "      <th>1</th>\n",
       "      <td>1</td>\n",
       "      <td>M</td>\n",
       "      <td>80.516429</td>\n",
       "      <td>58.435870</td>\n",
       "      <td>Science</td>\n",
       "      <td>63.875382</td>\n",
       "      <td>Comm&amp;Mgmt</td>\n",
       "      <td>False</td>\n",
       "      <td>0</td>\n",
       "      <td>75.985794</td>\n",
       "      <td>Mkt&amp;Fin</td>\n",
       "      <td>54.780588</td>\n",
       "      <td>24274.942398</td>\n",
       "      <td>False</td>\n",
       "      <td>2020-03-26</td>\n",
       "      <td>NaT</td>\n",
       "      <td>12.0</td>\n",
       "    </tr>\n",
       "    <tr>\n",
       "      <th>2</th>\n",
       "      <td>2</td>\n",
       "      <td>F</td>\n",
       "      <td>66.299879</td>\n",
       "      <td>70.034098</td>\n",
       "      <td>Commerce</td>\n",
       "      <td>55.912894</td>\n",
       "      <td>Comm&amp;Mgmt</td>\n",
       "      <td>False</td>\n",
       "      <td>0</td>\n",
       "      <td>52.855745</td>\n",
       "      <td>Mkt&amp;Fin</td>\n",
       "      <td>54.999354</td>\n",
       "      <td>32565.629089</td>\n",
       "      <td>False</td>\n",
       "      <td>2020-03-13</td>\n",
       "      <td>NaT</td>\n",
       "      <td>3.0</td>\n",
       "    </tr>\n",
       "    <tr>\n",
       "      <th>3</th>\n",
       "      <td>3</td>\n",
       "      <td>F</td>\n",
       "      <td>77.819028</td>\n",
       "      <td>71.176766</td>\n",
       "      <td>Commerce</td>\n",
       "      <td>55.702188</td>\n",
       "      <td>Comm&amp;Mgmt</td>\n",
       "      <td>False</td>\n",
       "      <td>0</td>\n",
       "      <td>62.162999</td>\n",
       "      <td>Mkt&amp;Fin</td>\n",
       "      <td>62.757981</td>\n",
       "      <td>29627.978857</td>\n",
       "      <td>False</td>\n",
       "      <td>2020-02-23</td>\n",
       "      <td>2020-08-17</td>\n",
       "      <td>NaN</td>\n",
       "    </tr>\n",
       "    <tr>\n",
       "      <th>4</th>\n",
       "      <td>4</td>\n",
       "      <td>F</td>\n",
       "      <td>70.347116</td>\n",
       "      <td>64.124960</td>\n",
       "      <td>Commerce</td>\n",
       "      <td>61.661156</td>\n",
       "      <td>Comm&amp;Mgmt</td>\n",
       "      <td>False</td>\n",
       "      <td>1</td>\n",
       "      <td>57.364653</td>\n",
       "      <td>Mkt&amp;Fin</td>\n",
       "      <td>58.617251</td>\n",
       "      <td>38076.507107</td>\n",
       "      <td>False</td>\n",
       "      <td>2020-01-19</td>\n",
       "      <td>2020-03-31</td>\n",
       "      <td>NaN</td>\n",
       "    </tr>\n",
       "  </tbody>\n",
       "</table>\n",
       "</div>"
      ],
      "text/plain": [
       "   student_id gender  second_perc  high_perc high_spec  degree_perc  \\\n",
       "0           0      F    83.905766  57.159569  Commerce    47.938867   \n",
       "1           1      M    80.516429  58.435870   Science    63.875382   \n",
       "2           2      F    66.299879  70.034098  Commerce    55.912894   \n",
       "3           3      F    77.819028  71.176766  Commerce    55.702188   \n",
       "4           4      F    70.347116  64.124960  Commerce    61.661156   \n",
       "\n",
       "  degree_type  work_experience  experience_years  employability_perc mba_spec  \\\n",
       "0   Comm&Mgmt            False                 0           58.621173   Mkt&HR   \n",
       "1   Comm&Mgmt            False                 0           75.985794  Mkt&Fin   \n",
       "2   Comm&Mgmt            False                 0           52.855745  Mkt&Fin   \n",
       "3   Comm&Mgmt            False                 0           62.162999  Mkt&Fin   \n",
       "4   Comm&Mgmt            False                 1           57.364653  Mkt&Fin   \n",
       "\n",
       "    mba_perc        salary  placed start_date   end_date duration  \n",
       "0  57.472606  31191.788409    True 2020-02-11 2021-01-09      3.0  \n",
       "1  54.780588  24274.942398   False 2020-03-26        NaT     12.0  \n",
       "2  54.999354  32565.629089   False 2020-03-13        NaT      3.0  \n",
       "3  62.757981  29627.978857   False 2020-02-23 2020-08-17      NaN  \n",
       "4  58.617251  38076.507107   False 2020-01-19 2020-03-31      NaN  "
      ]
     },
     "execution_count": 9,
     "metadata": {},
     "output_type": "execute_result"
    }
   ],
   "source": [
    "model = CopulaGAN(\n",
    "    primary_key='student_id'\n",
    ")\n",
    "model.fit(data)\n",
    "new_data = model.sample(200)\n",
    "new_data.head()"
   ]
  },
  {
   "cell_type": "markdown",
   "metadata": {},
   "source": [
    "As a result, the model will learn that this column must be unique and\n",
    "generate a unique sequence of values for the column:"
   ]
  },
  {
   "cell_type": "code",
   "execution_count": 10,
   "metadata": {
    "attributes": {
     "classes": [
      ""
     ],
     "id": ""
    }
   },
   "outputs": [
    {
     "data": {
      "text/plain": [
       "1"
      ]
     },
     "execution_count": 10,
     "metadata": {},
     "output_type": "execute_result"
    }
   ],
   "source": [
    "new_data.student_id.value_counts().max()"
   ]
  },
  {
   "cell_type": "markdown",
   "metadata": {},
   "source": [
    "### Anonymizing Personally Identifiable Information (PII)\n",
    "\n",
    "There will be many cases where the data will contain Personally\n",
    "Identifiable Information which we cannot disclose. In these cases, we\n",
    "will want our Tabular Models to replace the information within these\n",
    "fields with fake, simulated data that looks similar to the real one but\n",
    "does not contain any of the original values.\n",
    "\n",
    "Let\\'s load a new dataset that contains a PII field, the\n",
    "`student_placements_pii` demo, and try to generate synthetic versions of\n",
    "it that do not contain any of the PII fields.\n",
    "\n",
    "<div class=\"alert alert-info\">\n",
    "\n",
    "**Note**\n",
    "\n",
    "The `student_placements_pii` dataset is a modified version of the\n",
    "`student_placements` dataset with one new field, `address`, which\n",
    "contains PII information about the students. Notice that this additional\n",
    "`address` field has been simulated and does not correspond to data from\n",
    "the real users.\n",
    "\n",
    "</div>"
   ]
  },
  {
   "cell_type": "code",
   "execution_count": 11,
   "metadata": {
    "attributes": {
     "classes": [
      ""
     ],
     "id": ""
    }
   },
   "outputs": [
    {
     "data": {
      "text/html": [
       "<div>\n",
       "<style scoped>\n",
       "    .dataframe tbody tr th:only-of-type {\n",
       "        vertical-align: middle;\n",
       "    }\n",
       "\n",
       "    .dataframe tbody tr th {\n",
       "        vertical-align: top;\n",
       "    }\n",
       "\n",
       "    .dataframe thead th {\n",
       "        text-align: right;\n",
       "    }\n",
       "</style>\n",
       "<table border=\"1\" class=\"dataframe\">\n",
       "  <thead>\n",
       "    <tr style=\"text-align: right;\">\n",
       "      <th></th>\n",
       "      <th>student_id</th>\n",
       "      <th>address</th>\n",
       "      <th>gender</th>\n",
       "      <th>second_perc</th>\n",
       "      <th>high_perc</th>\n",
       "      <th>high_spec</th>\n",
       "      <th>degree_perc</th>\n",
       "      <th>degree_type</th>\n",
       "      <th>work_experience</th>\n",
       "      <th>experience_years</th>\n",
       "      <th>employability_perc</th>\n",
       "      <th>mba_spec</th>\n",
       "      <th>mba_perc</th>\n",
       "      <th>salary</th>\n",
       "      <th>placed</th>\n",
       "      <th>start_date</th>\n",
       "      <th>end_date</th>\n",
       "      <th>duration</th>\n",
       "    </tr>\n",
       "  </thead>\n",
       "  <tbody>\n",
       "    <tr>\n",
       "      <th>0</th>\n",
       "      <td>17264</td>\n",
       "      <td>70304 Baker Turnpike\\nEricborough, MS 15086</td>\n",
       "      <td>M</td>\n",
       "      <td>67.00</td>\n",
       "      <td>91.00</td>\n",
       "      <td>Commerce</td>\n",
       "      <td>58.00</td>\n",
       "      <td>Sci&amp;Tech</td>\n",
       "      <td>False</td>\n",
       "      <td>0</td>\n",
       "      <td>55.0</td>\n",
       "      <td>Mkt&amp;HR</td>\n",
       "      <td>58.80</td>\n",
       "      <td>27000.0</td>\n",
       "      <td>True</td>\n",
       "      <td>2020-07-23</td>\n",
       "      <td>2020-10-12</td>\n",
       "      <td>3.0</td>\n",
       "    </tr>\n",
       "    <tr>\n",
       "      <th>1</th>\n",
       "      <td>17265</td>\n",
       "      <td>805 Herrera Avenue Apt. 134\\nMaryview, NJ 36510</td>\n",
       "      <td>M</td>\n",
       "      <td>79.33</td>\n",
       "      <td>78.33</td>\n",
       "      <td>Science</td>\n",
       "      <td>77.48</td>\n",
       "      <td>Sci&amp;Tech</td>\n",
       "      <td>True</td>\n",
       "      <td>1</td>\n",
       "      <td>86.5</td>\n",
       "      <td>Mkt&amp;Fin</td>\n",
       "      <td>66.28</td>\n",
       "      <td>20000.0</td>\n",
       "      <td>True</td>\n",
       "      <td>2020-01-11</td>\n",
       "      <td>2020-04-09</td>\n",
       "      <td>3.0</td>\n",
       "    </tr>\n",
       "    <tr>\n",
       "      <th>2</th>\n",
       "      <td>17266</td>\n",
       "      <td>3702 Bradley Island\\nNorth Victor, FL 12268</td>\n",
       "      <td>M</td>\n",
       "      <td>65.00</td>\n",
       "      <td>68.00</td>\n",
       "      <td>Arts</td>\n",
       "      <td>64.00</td>\n",
       "      <td>Comm&amp;Mgmt</td>\n",
       "      <td>False</td>\n",
       "      <td>0</td>\n",
       "      <td>75.0</td>\n",
       "      <td>Mkt&amp;Fin</td>\n",
       "      <td>57.80</td>\n",
       "      <td>25000.0</td>\n",
       "      <td>True</td>\n",
       "      <td>2020-01-26</td>\n",
       "      <td>2020-07-13</td>\n",
       "      <td>6.0</td>\n",
       "    </tr>\n",
       "    <tr>\n",
       "      <th>3</th>\n",
       "      <td>17267</td>\n",
       "      <td>Unit 0879 Box 3878\\nDPO AP 42663</td>\n",
       "      <td>M</td>\n",
       "      <td>56.00</td>\n",
       "      <td>52.00</td>\n",
       "      <td>Science</td>\n",
       "      <td>52.00</td>\n",
       "      <td>Sci&amp;Tech</td>\n",
       "      <td>False</td>\n",
       "      <td>0</td>\n",
       "      <td>66.0</td>\n",
       "      <td>Mkt&amp;HR</td>\n",
       "      <td>59.43</td>\n",
       "      <td>NaN</td>\n",
       "      <td>False</td>\n",
       "      <td>NaT</td>\n",
       "      <td>NaT</td>\n",
       "      <td>NaN</td>\n",
       "    </tr>\n",
       "    <tr>\n",
       "      <th>4</th>\n",
       "      <td>17268</td>\n",
       "      <td>96493 Kelly Canyon Apt. 145\\nEast Steven, NC 3...</td>\n",
       "      <td>M</td>\n",
       "      <td>85.80</td>\n",
       "      <td>73.60</td>\n",
       "      <td>Commerce</td>\n",
       "      <td>73.30</td>\n",
       "      <td>Comm&amp;Mgmt</td>\n",
       "      <td>False</td>\n",
       "      <td>0</td>\n",
       "      <td>96.8</td>\n",
       "      <td>Mkt&amp;Fin</td>\n",
       "      <td>55.50</td>\n",
       "      <td>42500.0</td>\n",
       "      <td>True</td>\n",
       "      <td>2020-07-04</td>\n",
       "      <td>2020-09-27</td>\n",
       "      <td>3.0</td>\n",
       "    </tr>\n",
       "  </tbody>\n",
       "</table>\n",
       "</div>"
      ],
      "text/plain": [
       "   student_id                                            address gender  \\\n",
       "0       17264        70304 Baker Turnpike\\nEricborough, MS 15086      M   \n",
       "1       17265    805 Herrera Avenue Apt. 134\\nMaryview, NJ 36510      M   \n",
       "2       17266        3702 Bradley Island\\nNorth Victor, FL 12268      M   \n",
       "3       17267                   Unit 0879 Box 3878\\nDPO AP 42663      M   \n",
       "4       17268  96493 Kelly Canyon Apt. 145\\nEast Steven, NC 3...      M   \n",
       "\n",
       "   second_perc  high_perc high_spec  degree_perc degree_type  work_experience  \\\n",
       "0        67.00      91.00  Commerce        58.00    Sci&Tech            False   \n",
       "1        79.33      78.33   Science        77.48    Sci&Tech             True   \n",
       "2        65.00      68.00      Arts        64.00   Comm&Mgmt            False   \n",
       "3        56.00      52.00   Science        52.00    Sci&Tech            False   \n",
       "4        85.80      73.60  Commerce        73.30   Comm&Mgmt            False   \n",
       "\n",
       "   experience_years  employability_perc mba_spec  mba_perc   salary  placed  \\\n",
       "0                 0                55.0   Mkt&HR     58.80  27000.0    True   \n",
       "1                 1                86.5  Mkt&Fin     66.28  20000.0    True   \n",
       "2                 0                75.0  Mkt&Fin     57.80  25000.0    True   \n",
       "3                 0                66.0   Mkt&HR     59.43      NaN   False   \n",
       "4                 0                96.8  Mkt&Fin     55.50  42500.0    True   \n",
       "\n",
       "  start_date   end_date duration  \n",
       "0 2020-07-23 2020-10-12      3.0  \n",
       "1 2020-01-11 2020-04-09      3.0  \n",
       "2 2020-01-26 2020-07-13      6.0  \n",
       "3        NaT        NaT      NaN  \n",
       "4 2020-07-04 2020-09-27      3.0  "
      ]
     },
     "execution_count": 11,
     "metadata": {},
     "output_type": "execute_result"
    }
   ],
   "source": [
    "data_pii = load_tabular_demo('student_placements_pii')\n",
    "data_pii.head()"
   ]
  },
  {
   "cell_type": "markdown",
   "metadata": {},
   "source": [
    "If we use our tabular model on this new data we will see how the\n",
    "synthetic data that it generates discloses the addresses from the real\n",
    "students:"
   ]
  },
  {
   "cell_type": "code",
   "execution_count": 12,
   "metadata": {
    "attributes": {
     "classes": [
      ""
     ],
     "id": ""
    }
   },
   "outputs": [
    {
     "data": {
      "text/html": [
       "<div>\n",
       "<style scoped>\n",
       "    .dataframe tbody tr th:only-of-type {\n",
       "        vertical-align: middle;\n",
       "    }\n",
       "\n",
       "    .dataframe tbody tr th {\n",
       "        vertical-align: top;\n",
       "    }\n",
       "\n",
       "    .dataframe thead th {\n",
       "        text-align: right;\n",
       "    }\n",
       "</style>\n",
       "<table border=\"1\" class=\"dataframe\">\n",
       "  <thead>\n",
       "    <tr style=\"text-align: right;\">\n",
       "      <th></th>\n",
       "      <th>student_id</th>\n",
       "      <th>address</th>\n",
       "      <th>gender</th>\n",
       "      <th>second_perc</th>\n",
       "      <th>high_perc</th>\n",
       "      <th>high_spec</th>\n",
       "      <th>degree_perc</th>\n",
       "      <th>degree_type</th>\n",
       "      <th>work_experience</th>\n",
       "      <th>experience_years</th>\n",
       "      <th>employability_perc</th>\n",
       "      <th>mba_spec</th>\n",
       "      <th>mba_perc</th>\n",
       "      <th>salary</th>\n",
       "      <th>placed</th>\n",
       "      <th>start_date</th>\n",
       "      <th>end_date</th>\n",
       "      <th>duration</th>\n",
       "    </tr>\n",
       "  </thead>\n",
       "  <tbody>\n",
       "    <tr>\n",
       "      <th>0</th>\n",
       "      <td>0</td>\n",
       "      <td>57590 Carmen Ports Apt. 500\\nNorth Tamara, GA ...</td>\n",
       "      <td>F</td>\n",
       "      <td>82.398585</td>\n",
       "      <td>71.016975</td>\n",
       "      <td>Commerce</td>\n",
       "      <td>52.635974</td>\n",
       "      <td>Comm&amp;Mgmt</td>\n",
       "      <td>False</td>\n",
       "      <td>0</td>\n",
       "      <td>78.532927</td>\n",
       "      <td>Mkt&amp;HR</td>\n",
       "      <td>71.882340</td>\n",
       "      <td>75019.892340</td>\n",
       "      <td>False</td>\n",
       "      <td>2020-02-11</td>\n",
       "      <td>2021-02-26</td>\n",
       "      <td>NaN</td>\n",
       "    </tr>\n",
       "    <tr>\n",
       "      <th>1</th>\n",
       "      <td>1</td>\n",
       "      <td>365 Rocha Center\\nNew Marilyn, KS 06019</td>\n",
       "      <td>M</td>\n",
       "      <td>84.704820</td>\n",
       "      <td>121.849837</td>\n",
       "      <td>Science</td>\n",
       "      <td>62.685038</td>\n",
       "      <td>Comm&amp;Mgmt</td>\n",
       "      <td>False</td>\n",
       "      <td>0</td>\n",
       "      <td>51.466858</td>\n",
       "      <td>Mkt&amp;Fin</td>\n",
       "      <td>67.937129</td>\n",
       "      <td>20465.647610</td>\n",
       "      <td>False</td>\n",
       "      <td>2020-01-01</td>\n",
       "      <td>2020-08-31</td>\n",
       "      <td>NaN</td>\n",
       "    </tr>\n",
       "    <tr>\n",
       "      <th>2</th>\n",
       "      <td>2</td>\n",
       "      <td>29166 Tammy Crest Apt. 839\\nSouth Lindaside, F...</td>\n",
       "      <td>M</td>\n",
       "      <td>78.265182</td>\n",
       "      <td>80.877062</td>\n",
       "      <td>Commerce</td>\n",
       "      <td>50.301571</td>\n",
       "      <td>Comm&amp;Mgmt</td>\n",
       "      <td>False</td>\n",
       "      <td>1</td>\n",
       "      <td>56.357874</td>\n",
       "      <td>Mkt&amp;Fin</td>\n",
       "      <td>64.319960</td>\n",
       "      <td>29145.381184</td>\n",
       "      <td>True</td>\n",
       "      <td>2020-01-08</td>\n",
       "      <td>2020-08-31</td>\n",
       "      <td>3.0</td>\n",
       "    </tr>\n",
       "    <tr>\n",
       "      <th>3</th>\n",
       "      <td>3</td>\n",
       "      <td>91928 Santos Bypass\\nSouth Jennifer, KS 52782</td>\n",
       "      <td>F</td>\n",
       "      <td>84.876372</td>\n",
       "      <td>69.025586</td>\n",
       "      <td>Arts</td>\n",
       "      <td>50.536989</td>\n",
       "      <td>Comm&amp;Mgmt</td>\n",
       "      <td>False</td>\n",
       "      <td>1</td>\n",
       "      <td>62.008443</td>\n",
       "      <td>Mkt&amp;HR</td>\n",
       "      <td>80.792994</td>\n",
       "      <td>27375.089999</td>\n",
       "      <td>True</td>\n",
       "      <td>NaT</td>\n",
       "      <td>2020-03-14</td>\n",
       "      <td>6.0</td>\n",
       "    </tr>\n",
       "    <tr>\n",
       "      <th>4</th>\n",
       "      <td>4</td>\n",
       "      <td>42261 Booth Shores\\nNorth Pattyfurt, UT 01028</td>\n",
       "      <td>F</td>\n",
       "      <td>83.512319</td>\n",
       "      <td>65.230320</td>\n",
       "      <td>Science</td>\n",
       "      <td>57.747023</td>\n",
       "      <td>Comm&amp;Mgmt</td>\n",
       "      <td>False</td>\n",
       "      <td>0</td>\n",
       "      <td>55.246041</td>\n",
       "      <td>Mkt&amp;Fin</td>\n",
       "      <td>58.585529</td>\n",
       "      <td>28914.783900</td>\n",
       "      <td>False</td>\n",
       "      <td>NaT</td>\n",
       "      <td>2020-11-11</td>\n",
       "      <td>3.0</td>\n",
       "    </tr>\n",
       "  </tbody>\n",
       "</table>\n",
       "</div>"
      ],
      "text/plain": [
       "   student_id                                            address gender  \\\n",
       "0           0  57590 Carmen Ports Apt. 500\\nNorth Tamara, GA ...      F   \n",
       "1           1            365 Rocha Center\\nNew Marilyn, KS 06019      M   \n",
       "2           2  29166 Tammy Crest Apt. 839\\nSouth Lindaside, F...      M   \n",
       "3           3      91928 Santos Bypass\\nSouth Jennifer, KS 52782      F   \n",
       "4           4      42261 Booth Shores\\nNorth Pattyfurt, UT 01028      F   \n",
       "\n",
       "   second_perc   high_perc high_spec  degree_perc degree_type  \\\n",
       "0    82.398585   71.016975  Commerce    52.635974   Comm&Mgmt   \n",
       "1    84.704820  121.849837   Science    62.685038   Comm&Mgmt   \n",
       "2    78.265182   80.877062  Commerce    50.301571   Comm&Mgmt   \n",
       "3    84.876372   69.025586      Arts    50.536989   Comm&Mgmt   \n",
       "4    83.512319   65.230320   Science    57.747023   Comm&Mgmt   \n",
       "\n",
       "   work_experience  experience_years  employability_perc mba_spec   mba_perc  \\\n",
       "0            False                 0           78.532927   Mkt&HR  71.882340   \n",
       "1            False                 0           51.466858  Mkt&Fin  67.937129   \n",
       "2            False                 1           56.357874  Mkt&Fin  64.319960   \n",
       "3            False                 1           62.008443   Mkt&HR  80.792994   \n",
       "4            False                 0           55.246041  Mkt&Fin  58.585529   \n",
       "\n",
       "         salary  placed start_date   end_date duration  \n",
       "0  75019.892340   False 2020-02-11 2021-02-26      NaN  \n",
       "1  20465.647610   False 2020-01-01 2020-08-31      NaN  \n",
       "2  29145.381184    True 2020-01-08 2020-08-31      3.0  \n",
       "3  27375.089999    True        NaT 2020-03-14      6.0  \n",
       "4  28914.783900   False        NaT 2020-11-11      3.0  "
      ]
     },
     "execution_count": 12,
     "metadata": {},
     "output_type": "execute_result"
    }
   ],
   "source": [
    "model = CopulaGAN(\n",
    "    primary_key='student_id',\n",
    ")\n",
    "model.fit(data_pii)\n",
    "new_data_pii = model.sample(200)\n",
    "new_data_pii.head()"
   ]
  },
  {
   "cell_type": "markdown",
   "metadata": {},
   "source": [
    "More specifically, we can see how all the addresses that have been\n",
    "generated actually come from the original dataset:"
   ]
  },
  {
   "cell_type": "code",
   "execution_count": 13,
   "metadata": {
    "attributes": {
     "classes": [
      ""
     ],
     "id": ""
    }
   },
   "outputs": [
    {
     "data": {
      "text/plain": [
       "200"
      ]
     },
     "execution_count": 13,
     "metadata": {},
     "output_type": "execute_result"
    }
   ],
   "source": [
    "new_data_pii.address.isin(data_pii.address).sum()"
   ]
  },
  {
   "cell_type": "markdown",
   "metadata": {},
   "source": [
    "In order to solve this, we can pass an additional argument\n",
    "`anonymize_fields` to our model when we create the instance. This\n",
    "`anonymize_fields` argument will need to be a dictionary that contains:\n",
    "\n",
    "-   The name of the field that we want to anonymize.\n",
    "-   The category of the field that we want to use when we generate fake\n",
    "    values for it.\n",
    "\n",
    "The list complete list of possible categories can be seen in the [Faker\n",
    "Providers](https://faker.readthedocs.io/en/master/providers.html) page,\n",
    "and it contains a huge list of concepts such as:\n",
    "\n",
    "-   name\n",
    "-   address\n",
    "-   country\n",
    "-   city\n",
    "-   ssn\n",
    "-   credit_card_number\n",
    "-   credit_card_expire\n",
    "-   credit_card_security_code\n",
    "-   email\n",
    "-   telephone\n",
    "-   \\...\n",
    "\n",
    "In this case, since the field is an e-mail address, we will pass a\n",
    "dictionary indicating the category `address`"
   ]
  },
  {
   "cell_type": "code",
   "execution_count": 14,
   "metadata": {
    "attributes": {
     "classes": [
      ""
     ],
     "id": ""
    }
   },
   "outputs": [],
   "source": [
    "model = CopulaGAN(\n",
    "    primary_key='student_id',\n",
    "    anonymize_fields={\n",
    "        'address': 'address'\n",
    "    }\n",
    ")\n",
    "model.fit(data_pii)"
   ]
  },
  {
   "cell_type": "markdown",
   "metadata": {},
   "source": [
    "As a result, we can see how the real `address` values have been replaced\n",
    "by other fake addresses that were not taken from the real data that we\n",
    "learned."
   ]
  },
  {
   "cell_type": "code",
   "execution_count": 15,
   "metadata": {
    "attributes": {
     "classes": [
      ""
     ],
     "id": ""
    }
   },
   "outputs": [
    {
     "data": {
      "text/html": [
       "<div>\n",
       "<style scoped>\n",
       "    .dataframe tbody tr th:only-of-type {\n",
       "        vertical-align: middle;\n",
       "    }\n",
       "\n",
       "    .dataframe tbody tr th {\n",
       "        vertical-align: top;\n",
       "    }\n",
       "\n",
       "    .dataframe thead th {\n",
       "        text-align: right;\n",
       "    }\n",
       "</style>\n",
       "<table border=\"1\" class=\"dataframe\">\n",
       "  <thead>\n",
       "    <tr style=\"text-align: right;\">\n",
       "      <th></th>\n",
       "      <th>student_id</th>\n",
       "      <th>address</th>\n",
       "      <th>gender</th>\n",
       "      <th>second_perc</th>\n",
       "      <th>high_perc</th>\n",
       "      <th>high_spec</th>\n",
       "      <th>degree_perc</th>\n",
       "      <th>degree_type</th>\n",
       "      <th>work_experience</th>\n",
       "      <th>experience_years</th>\n",
       "      <th>employability_perc</th>\n",
       "      <th>mba_spec</th>\n",
       "      <th>mba_perc</th>\n",
       "      <th>salary</th>\n",
       "      <th>placed</th>\n",
       "      <th>start_date</th>\n",
       "      <th>end_date</th>\n",
       "      <th>duration</th>\n",
       "    </tr>\n",
       "  </thead>\n",
       "  <tbody>\n",
       "    <tr>\n",
       "      <th>0</th>\n",
       "      <td>0</td>\n",
       "      <td>7453 Robert Causeway\\nBrianmouth, NC 09322</td>\n",
       "      <td>M</td>\n",
       "      <td>50.035781</td>\n",
       "      <td>91.478670</td>\n",
       "      <td>Science</td>\n",
       "      <td>60.026869</td>\n",
       "      <td>Comm&amp;Mgmt</td>\n",
       "      <td>False</td>\n",
       "      <td>0</td>\n",
       "      <td>75.586329</td>\n",
       "      <td>Mkt&amp;HR</td>\n",
       "      <td>51.074049</td>\n",
       "      <td>NaN</td>\n",
       "      <td>True</td>\n",
       "      <td>2020-01-06</td>\n",
       "      <td>2020-10-11</td>\n",
       "      <td>6.0</td>\n",
       "    </tr>\n",
       "    <tr>\n",
       "      <th>1</th>\n",
       "      <td>1</td>\n",
       "      <td>42833 Michael Pines Suite 985\\nWest Lisa, VT 4...</td>\n",
       "      <td>M</td>\n",
       "      <td>79.580156</td>\n",
       "      <td>114.442510</td>\n",
       "      <td>Commerce</td>\n",
       "      <td>58.741684</td>\n",
       "      <td>Sci&amp;Tech</td>\n",
       "      <td>False</td>\n",
       "      <td>1</td>\n",
       "      <td>78.572738</td>\n",
       "      <td>Mkt&amp;HR</td>\n",
       "      <td>50.931969</td>\n",
       "      <td>NaN</td>\n",
       "      <td>True</td>\n",
       "      <td>NaT</td>\n",
       "      <td>2020-09-11</td>\n",
       "      <td>3.0</td>\n",
       "    </tr>\n",
       "    <tr>\n",
       "      <th>2</th>\n",
       "      <td>2</td>\n",
       "      <td>3035 Christina Ramp\\nNorth Scott, WV 92896</td>\n",
       "      <td>M</td>\n",
       "      <td>85.171136</td>\n",
       "      <td>62.538608</td>\n",
       "      <td>Science</td>\n",
       "      <td>60.043502</td>\n",
       "      <td>Comm&amp;Mgmt</td>\n",
       "      <td>False</td>\n",
       "      <td>0</td>\n",
       "      <td>81.788016</td>\n",
       "      <td>Mkt&amp;Fin</td>\n",
       "      <td>54.061867</td>\n",
       "      <td>NaN</td>\n",
       "      <td>True</td>\n",
       "      <td>2020-06-26</td>\n",
       "      <td>2020-06-30</td>\n",
       "      <td>12.0</td>\n",
       "    </tr>\n",
       "    <tr>\n",
       "      <th>3</th>\n",
       "      <td>3</td>\n",
       "      <td>56250 Smith Haven\\nJasonland, AR 60772</td>\n",
       "      <td>F</td>\n",
       "      <td>71.664313</td>\n",
       "      <td>80.811807</td>\n",
       "      <td>Commerce</td>\n",
       "      <td>85.007746</td>\n",
       "      <td>Comm&amp;Mgmt</td>\n",
       "      <td>False</td>\n",
       "      <td>0</td>\n",
       "      <td>87.111434</td>\n",
       "      <td>Mkt&amp;Fin</td>\n",
       "      <td>52.498606</td>\n",
       "      <td>21664.625981</td>\n",
       "      <td>True</td>\n",
       "      <td>NaT</td>\n",
       "      <td>2020-11-15</td>\n",
       "      <td>12.0</td>\n",
       "    </tr>\n",
       "    <tr>\n",
       "      <th>4</th>\n",
       "      <td>4</td>\n",
       "      <td>9801 Garcia Drive\\nGutierrezville, WA 11845</td>\n",
       "      <td>M</td>\n",
       "      <td>79.261928</td>\n",
       "      <td>77.245127</td>\n",
       "      <td>Science</td>\n",
       "      <td>67.718549</td>\n",
       "      <td>Sci&amp;Tech</td>\n",
       "      <td>False</td>\n",
       "      <td>1</td>\n",
       "      <td>69.803628</td>\n",
       "      <td>Mkt&amp;Fin</td>\n",
       "      <td>55.073856</td>\n",
       "      <td>30508.949317</td>\n",
       "      <td>True</td>\n",
       "      <td>2020-01-08</td>\n",
       "      <td>2020-03-20</td>\n",
       "      <td>12.0</td>\n",
       "    </tr>\n",
       "  </tbody>\n",
       "</table>\n",
       "</div>"
      ],
      "text/plain": [
       "   student_id                                            address gender  \\\n",
       "0           0         7453 Robert Causeway\\nBrianmouth, NC 09322      M   \n",
       "1           1  42833 Michael Pines Suite 985\\nWest Lisa, VT 4...      M   \n",
       "2           2         3035 Christina Ramp\\nNorth Scott, WV 92896      M   \n",
       "3           3             56250 Smith Haven\\nJasonland, AR 60772      F   \n",
       "4           4        9801 Garcia Drive\\nGutierrezville, WA 11845      M   \n",
       "\n",
       "   second_perc   high_perc high_spec  degree_perc degree_type  \\\n",
       "0    50.035781   91.478670   Science    60.026869   Comm&Mgmt   \n",
       "1    79.580156  114.442510  Commerce    58.741684    Sci&Tech   \n",
       "2    85.171136   62.538608   Science    60.043502   Comm&Mgmt   \n",
       "3    71.664313   80.811807  Commerce    85.007746   Comm&Mgmt   \n",
       "4    79.261928   77.245127   Science    67.718549    Sci&Tech   \n",
       "\n",
       "   work_experience  experience_years  employability_perc mba_spec   mba_perc  \\\n",
       "0            False                 0           75.586329   Mkt&HR  51.074049   \n",
       "1            False                 1           78.572738   Mkt&HR  50.931969   \n",
       "2            False                 0           81.788016  Mkt&Fin  54.061867   \n",
       "3            False                 0           87.111434  Mkt&Fin  52.498606   \n",
       "4            False                 1           69.803628  Mkt&Fin  55.073856   \n",
       "\n",
       "         salary  placed start_date   end_date duration  \n",
       "0           NaN    True 2020-01-06 2020-10-11      6.0  \n",
       "1           NaN    True        NaT 2020-09-11      3.0  \n",
       "2           NaN    True 2020-06-26 2020-06-30     12.0  \n",
       "3  21664.625981    True        NaT 2020-11-15     12.0  \n",
       "4  30508.949317    True 2020-01-08 2020-03-20     12.0  "
      ]
     },
     "execution_count": 15,
     "metadata": {},
     "output_type": "execute_result"
    }
   ],
   "source": [
    "new_data_pii = model.sample(200)\n",
    "new_data_pii.head()"
   ]
  },
  {
   "cell_type": "markdown",
   "metadata": {},
   "source": [
    "Which means that none of the original addresses can be found in the\n",
    "sampled data:"
   ]
  },
  {
   "cell_type": "code",
   "execution_count": 16,
   "metadata": {
    "attributes": {
     "classes": [
      ""
     ],
     "id": ""
    }
   },
   "outputs": [
    {
     "data": {
      "text/plain": [
       "0"
      ]
     },
     "execution_count": 16,
     "metadata": {},
     "output_type": "execute_result"
    }
   ],
   "source": [
    "data_pii.address.isin(new_data_pii.address).sum()"
   ]
  },
  {
   "cell_type": "markdown",
   "metadata": {},
   "source": [
    "Advanced Usage\n",
    "--------------\n",
    "\n",
    "Now that we have discovered the basics, let\\'s go over a few more\n",
    "advanced usage examples and see the different arguments that we can pass\n",
    "to our `CopulaGAN` Model in order to customize it to our needs.\n",
    "\n",
    "### Exploring the Probability Distributions\n",
    "\n",
    "During the previous steps, every time we fitted the `CopulaGAN` it\n",
    "performed the following operations:\n",
    "\n",
    "1.  Learn the format and data types of the passed data\n",
    "2.  Transform the non-numerical and null data using [Reversible Data\n",
    "    Transforms](https://github.com/sdv-dev/RDT) to obtain a fully\n",
    "    numerical representation of the data from which we can learn the\n",
    "    probability distributions.\n",
    "3.  Learn the probability distribution of each column from the table\n",
    "4.  Transform the values of each numerical column by converting them to\n",
    "    their marginal distribution CDF values and then applying an inverse\n",
    "    CDF transformation of a standard normal on them.\n",
    "5.  Fit a CTGAN model on the transformed data, which learns how each\n",
    "    column is correlated to the others.\n",
    "\n",
    "After this, when we used the model to generate new data for our table\n",
    "using the `sample` method, it did:\n",
    "\n",
    "5.  Sample rows from the CTGAN model.\n",
    "6.  Revert the sampled values by computing their standard normal CDF and\n",
    "    then applying the inverse CDF of their marginal distributions.\n",
    "7.  Revert the RDT transformations to go back to the original data\n",
    "    format.\n",
    "\n",
    "As you can see, during these steps the *Marginal Probability\n",
    "Distributions* have a very important role, since the `CopulaGAN` had to\n",
    "learn and reproduce the individual distributions of each column in our\n",
    "table. We can explore the distributions which the `CopulaGAN` used to\n",
    "model each column using its `get_distributions` method:"
   ]
  },
  {
   "cell_type": "code",
   "execution_count": 17,
   "metadata": {
    "attributes": {
     "classes": [
      ""
     ],
     "id": ""
    }
   },
   "outputs": [],
   "source": [
    "model = CopulaGAN(\n",
    "    primary_key='student_id'\n",
    ")\n",
    "model.fit(data)\n",
    "distributions = model.get_distributions()"
   ]
  },
  {
   "cell_type": "markdown",
   "metadata": {},
   "source": [
    "This will return us a `dict` which contains the name of the distribution\n",
    "class used for each column:"
   ]
  },
  {
   "cell_type": "code",
   "execution_count": 18,
   "metadata": {
    "attributes": {
     "classes": [
      ""
     ],
     "id": ""
    }
   },
   "outputs": [
    {
     "data": {
      "text/plain": [
       "{'second_perc': 'copulas.univariate.truncated_gaussian.TruncatedGaussian',\n",
       " 'high_perc': 'copulas.univariate.log_laplace.LogLaplace',\n",
       " 'degree_perc': 'copulas.univariate.student_t.StudentTUnivariate',\n",
       " 'work_experience': 'copulas.univariate.student_t.StudentTUnivariate',\n",
       " 'experience_years': 'copulas.univariate.gaussian.GaussianUnivariate',\n",
       " 'employability_perc': 'copulas.univariate.truncated_gaussian.TruncatedGaussian',\n",
       " 'mba_perc': 'copulas.univariate.gamma.GammaUnivariate',\n",
       " 'salary#0': 'copulas.univariate.gamma.GammaUnivariate',\n",
       " 'salary#1': 'copulas.univariate.gaussian.GaussianUnivariate',\n",
       " 'placed': 'copulas.univariate.gamma.GammaUnivariate',\n",
       " 'start_date#0': 'copulas.univariate.gamma.GammaUnivariate',\n",
       " 'start_date#1': 'copulas.univariate.gaussian.GaussianUnivariate',\n",
       " 'end_date#0': 'copulas.univariate.gamma.GammaUnivariate',\n",
       " 'end_date#1': 'copulas.univariate.gaussian.GaussianUnivariate'}"
      ]
     },
     "execution_count": 18,
     "metadata": {},
     "output_type": "execute_result"
    }
   ],
   "source": [
    "distributions"
   ]
  },
  {
   "cell_type": "markdown",
   "metadata": {},
   "source": [
    "<div class=\"alert alert-info\">\n",
    "\n",
    "**Note**\n",
    "\n",
    "In this list we will see multiple distributions for each one of the\n",
    "columns that we have in our data. This is because the RDT\n",
    "transformations used to encode the data numerically often use more than\n",
    "one column to represent each one of the input variables.\n",
    "\n",
    "</div>\n",
    "\n",
    "Let\\'s explore the individual distribution of one of the columns in our\n",
    "data to better understand how the `CopulaGAN` processed them and see if\n",
    "we can improve the results by manually specifying a different\n",
    "distribution. For example, let\\'s explore the `experience_years` column\n",
    "by looking at the frequency of its values within the original data:"
   ]
  },
  {
   "cell_type": "code",
   "execution_count": 19,
   "metadata": {
    "attributes": {
     "classes": [
      ""
     ],
     "id": ""
    }
   },
   "outputs": [
    {
     "data": {
      "text/plain": [
       "0    141\n",
       "1     65\n",
       "2      8\n",
       "3      1\n",
       "Name: experience_years, dtype: int64"
      ]
     },
     "execution_count": 19,
     "metadata": {},
     "output_type": "execute_result"
    }
   ],
   "source": [
    "data.experience_years.value_counts()"
   ]
  },
  {
   "cell_type": "code",
   "execution_count": 20,
   "metadata": {
    "attributes": {
     "classes": [
      ""
     ],
     "id": ""
    }
   },
   "outputs": [
    {
     "data": {
      "image/png": "[encoded data removed]",
      "text/plain": [
       "<Figure size 432x288 with 1 Axes>"
      ]
     },
     "metadata": {
      "needs_background": "light"
     },
     "output_type": "display_data"
    }
   ],
   "source": [
    "data.experience_years.hist();"
   ]
  },
  {
   "cell_type": "markdown",
   "metadata": {},
   "source": [
    "By observing the data we can see that the behavior of the values in this\n",
    "column is very similar to a Gamma or even some types of Beta\n",
    "distribution, where the majority of the values are 0 and the frequency\n",
    "decreases as the values increase.\n",
    "\n",
    "Was the `CopulaGAN` able to capture this distribution on its own?"
   ]
  },
  {
   "cell_type": "code",
   "execution_count": 21,
   "metadata": {
    "attributes": {
     "classes": [
      ""
     ],
     "id": ""
    }
   },
   "outputs": [
    {
     "data": {
      "text/plain": [
       "'copulas.univariate.gaussian.GaussianUnivariate'"
      ]
     },
     "execution_count": 21,
     "metadata": {},
     "output_type": "execute_result"
    }
   ],
   "source": [
    "distributions['experience_years']"
   ]
  },
  {
   "cell_type": "markdown",
   "metadata": {},
   "source": [
    "It seems that the it was not, as it rather thought that the behavior was\n",
    "closer to a Gaussian distribution. And, as a result, we can see how the\n",
    "generated values now contain negative values which are invalid for this\n",
    "column:"
   ]
  },
  {
   "cell_type": "code",
   "execution_count": 22,
   "metadata": {
    "attributes": {
     "classes": [
      ""
     ],
     "id": ""
    }
   },
   "outputs": [
    {
     "data": {
      "text/plain": [
       "0    154\n",
       "1     43\n",
       "3      2\n",
       "2      1\n",
       "Name: experience_years, dtype: int64"
      ]
     },
     "execution_count": 22,
     "metadata": {},
     "output_type": "execute_result"
    }
   ],
   "source": [
    "new_data.experience_years.value_counts()"
   ]
  },
  {
   "cell_type": "code",
   "execution_count": 23,
   "metadata": {
    "attributes": {
     "classes": [
      ""
     ],
     "id": ""
    }
   },
   "outputs": [
    {
     "data": {
      "image/png": "[encoded data removed]",
      "text/plain": [
       "<Figure size 432x288 with 1 Axes>"
      ]
     },
     "metadata": {
      "needs_background": "light"
     },
     "output_type": "display_data"
    }
   ],
   "source": [
    "new_data.experience_years.hist();"
   ]
  },
  {
   "cell_type": "markdown",
   "metadata": {},
   "source": [
    "Let\\'s see how we can improve this situation by passing the `CopulaGAN`\n",
    "the exact distribution that we want it to use for this column.\n",
    "\n",
    "### Setting distributions for indvidual variables\n",
    "\n",
    "The `CopulaGAN` class offers the possibility to indicate which\n",
    "distribution to use for each one of the columns in the table, in order\n",
    "to solve situations like the one that we just described. In order to do\n",
    "this, we need to pass a `field_distributions` argument with `dict` that\n",
    "indicates, the distribution that we want to use for each column.\n",
    "\n",
    "Possible values for the distribution argument are:\n",
    "\n",
    "-   `univariate`: Let `copulas` select the optimal univariate\n",
    "    distribution. This may result in non-parametric models being used.\n",
    "-   `parametric`: Let `copulas` select the optimal univariate\n",
    "    distribution, but restrict the selection to parametric distributions\n",
    "    only.\n",
    "-   `bounded`: Let `copulas` select the optimal univariate distribution,\n",
    "    but restrict the selection to bounded distributions only. This may\n",
    "    result in non-parametric models being used.\n",
    "-   `semi_bounded`: Let `copulas` select the optimal univariate\n",
    "    distribution, but restrict the selection to semi-bounded\n",
    "    distributions only. This may result in non-parametric models being\n",
    "    used.\n",
    "-   `parametric_bounded`: Let `copulas` select the optimal univariate\n",
    "    distribution, but restrict the selection to parametric and bounded\n",
    "    distributions only.\n",
    "-   `parametric_semi_bounded`: Let `copulas` select the optimal\n",
    "    univariate distribution, but restrict the selection to parametric\n",
    "    and semi-bounded distributions only.\n",
    "-   `gaussian`: Use a Gaussian distribution.\n",
    "-   `gamma`: Use a Gamma distribution.\n",
    "-   `beta`: Use a Beta distribution.\n",
    "-   `student_t`: Use a Student T distribution.\n",
    "-   `gaussian_kde`: Use a GaussianKDE distribution. This model is\n",
    "    non-parametric, so using this will make `get_parameters` unusable.\n",
    "-   `truncated_gaussian`: Use a Truncated Gaussian distribution.\n",
    "\n",
    "Let\\'s see what happens if we make the `CopulaGAN` use the `gamma`\n",
    "distribution for our column."
   ]
  },
  {
   "cell_type": "code",
   "execution_count": 24,
   "metadata": {
    "attributes": {
     "classes": [
      ""
     ],
     "id": ""
    }
   },
   "outputs": [],
   "source": [
    "model = CopulaGAN(\n",
    "    primary_key='student_id',\n",
    "    field_distributions={\n",
    "        'experience_years': 'gamma'\n",
    "    }\n",
    ")\n",
    "model.fit(data)"
   ]
  },
  {
   "cell_type": "markdown",
   "metadata": {},
   "source": [
    "After this, we can see how the `CopulaGAN` used the indicated\n",
    "distribution for the `experience_years` column"
   ]
  },
  {
   "cell_type": "code",
   "execution_count": 25,
   "metadata": {
    "attributes": {
     "classes": [
      ""
     ],
     "id": ""
    }
   },
   "outputs": [
    {
     "data": {
      "text/plain": [
       "'copulas.univariate.gamma.GammaUnivariate'"
      ]
     },
     "execution_count": 25,
     "metadata": {},
     "output_type": "execute_result"
    }
   ],
   "source": [
    "model.get_distributions()['experience_years']"
   ]
  },
  {
   "cell_type": "markdown",
   "metadata": {},
   "source": [
    "And, as a result, now we can see how the generated data now have a\n",
    "behavior which is closer to the original data and always stays within\n",
    "the valid values range."
   ]
  },
  {
   "cell_type": "code",
   "execution_count": 26,
   "metadata": {
    "attributes": {
     "classes": [
      ""
     ],
     "id": ""
    }
   },
   "outputs": [
    {
     "data": {
      "text/plain": [
       "0    154\n",
       "1     37\n",
       "2     20\n",
       "3      3\n",
       "4      1\n",
       "Name: experience_years, dtype: int64"
      ]
     },
     "execution_count": 26,
     "metadata": {},
     "output_type": "execute_result"
    }
   ],
   "source": [
    "new_data = model.sample(len(data))\n",
    "new_data.experience_years.value_counts()"
   ]
  },
  {
   "cell_type": "code",
   "execution_count": 27,
   "metadata": {
    "attributes": {
     "classes": [
      ""
     ],
     "id": ""
    }
   },
   "outputs": [
    {
     "data": {
      "image/png": "[encoded data removed]",
      "text/plain": [
       "<Figure size 432x288 with 1 Axes>"
      ]
     },
     "metadata": {
      "needs_background": "light"
     },
     "output_type": "display_data"
    }
   ],
   "source": [
    "new_data.experience_years.hist();"
   ]
  },
  {
   "cell_type": "markdown",
   "metadata": {},
   "source": [
    "<div class=\"alert alert-info\">\n",
    "\n",
    "**Note**\n",
    "\n",
    "Even though there are situations like the one show above where manually\n",
    "choosing a distribution seems to give better results, in most cases the\n",
    "`CopulaGAN` will be able to find the optimal distribution on its own,\n",
    "making this manual search of the marginal distributions necessary on\n",
    "very little occasions.\n",
    "\n",
    "</div>\n",
    "\n",
    "### How to modify the CopulaGAN Hyperparameters?\n",
    "\n",
    "A part from the arguments explained above, `CopulaGAN` has a number of\n",
    "additional hyperparameters that control its learning behavior and can\n",
    "impact on the performance of the model, both in terms of quality of the\n",
    "generated data and computational time:\n",
    "\n",
    "-   `epochs` and `batch_size`: these arguments control the number of\n",
    "    iterations that the model will perform to optimize its parameters,\n",
    "    as well as the number of samples used in each step. Its default\n",
    "    values are `300` and `500` respectively, and `batch_size` needs to\n",
    "    always be a value which is multiple of `10`. These hyperparameters\n",
    "    have a very direct effect in time the training process lasts but\n",
    "    also on the performance of the data, so for new datasets, you might\n",
    "    want to start by setting a low value on both of them to see how long\n",
    "    the training process takes on your data and later on increase the\n",
    "    number to acceptable values in order to improve the performance.\n",
    "-   `log_frequency`: Whether to use log frequency of categorical levels\n",
    "    in conditional sampling. It defaults to `True`. This argument affects\n",
    "    how the model processes the frequencies of the categorical values that\n",
    "    are used to condition the rest of the values. In some cases, changing\n",
    "    it to `False` could lead to better performance.\n",
    "-   `embedding_dim` (int): Size of the random sample passed to the\n",
    "    Generator. Defaults to 128.\n",
    "-   `generator_dim` (tuple or list of ints): Size of the output samples for\n",
    "    each one of the Residuals. A Resiudal Layer will be created for each\n",
    "    one of the values provided. Defaults to (256, 256).\n",
    "-   `discriminator_dim` (tuple or list of ints): Size of the output samples for\n",
    "    each one of the Discriminator Layers. A Linear Layer will be created\n",
    "    for each one of the values provided. Defaults to (256, 256).\n",
    "-   `generator_lr` (float): Learning rate for the generator. Defaults to 2e-4.\n",
    "-   `generator_decay` (float): Generator weight decay for the Adam Optimizer.\n",
    "    Defaults to 1e-6.\n",
    "-   `discriminator_lr` (float): Learning rate for the discriminator.\n",
    "    Defaults to 2e-4.\n",
    "-   `discriminator_decay` (float): Discriminator weight decay for the Adam\n",
    "    Optimizer. Defaults to 1e-6.\n",
    "-   `discriminator_steps` (int): Number of discriminator updates to do for\n",
    "    each generator update. From the WGAN paper: https://arxiv.org/abs/1701.07875.\n",
    "    WGAN paper default is 5. Default used is 1 to match original CTGAN\n",
    "    implementation.\n",
    "-   `verbose`: Whether to print fit progress on stdout. Defaults to\n",
    "    `False`.\n",
    "\n",
    "<div class=\"alert alert-warning\">\n",
    "\n",
    "**Warning**\n",
    "\n",
    "Notice that the value that you set on the `batch_size` argument must\n",
    "always be a multiple of `10`!\n",
    "\n",
    "</div>\n",
    "\n",
    "As an example, we will try to fit the `CopulaGAN` model slightly\n",
    "increasing the number of epochs, reducing the `batch_size`, adding one\n",
    "additional layer to the models involved and using a smaller wright\n",
    "decay.\n",
    "\n",
    "Before we start, we will evaluate the quality of the previously\n",
    "generated data using the `sdv.evaluation.evaluate` function"
   ]
  },
  {
   "cell_type": "code",
   "execution_count": 28,
   "metadata": {
    "attributes": {
     "classes": [
      ""
     ],
     "id": ""
    }
   },
   "outputs": [
    {
     "data": {
      "text/plain": [
       "0.3072286455677329"
      ]
     },
     "execution_count": 28,
     "metadata": {},
     "output_type": "execute_result"
    }
   ],
   "source": [
    "from sdv.evaluation import evaluate\n",
    "\n",
    "evaluate(new_data, data)"
   ]
  },
  {
   "cell_type": "markdown",
   "metadata": {},
   "source": [
    "Afterwards, we create a new instance of the `CopulaGAN` model with the\n",
    "hyperparameter values that we want to use"
   ]
  },
  {
   "cell_type": "code",
   "execution_count": 29,
   "metadata": {
    "attributes": {
     "classes": [
      ""
     ],
     "id": ""
    }
   },
   "outputs": [],
   "source": [
    "model = CopulaGAN(\n",
    "    primary_key='student_id',\n",
    "    epochs=500,\n",
    "    batch_size=100,\n",
    "    generator_dim=(256, 256, 256),\n",
    "    discriminator_dim=(256, 256, 256)\n",
    ")"
   ]
  },
  {
   "cell_type": "markdown",
   "metadata": {},
   "source": [
    "And fit to our data."
   ]
  },
  {
   "cell_type": "code",
   "execution_count": 30,
   "metadata": {
    "attributes": {
     "classes": [
      ""
     ],
     "id": ""
    }
   },
   "outputs": [],
   "source": [
    "model.fit(data)"
   ]
  },
  {
   "cell_type": "markdown",
   "metadata": {},
   "source": [
    "Finally, we are ready to generate new data and evaluate the results."
   ]
  },
  {
   "cell_type": "code",
   "execution_count": 31,
   "metadata": {
    "attributes": {
     "classes": [
      ""
     ],
     "id": ""
    }
   },
   "outputs": [
    {
     "data": {
      "text/plain": [
       "0.29772301135854395"
      ]
     },
     "execution_count": 31,
     "metadata": {},
     "output_type": "execute_result"
    }
   ],
   "source": [
    "new_data = model.sample(len(data))\n",
    "evaluate(new_data, data)"
   ]
  },
  {
   "cell_type": "markdown",
   "metadata": {},
   "source": [
    "As we can see, in this case these modifications changed the obtained\n",
    "results slightly, but they did neither introduce dramatic changes in the\n",
    "performance.\n",
    "\n",
    "### How do I specify constraints?\n",
    "\n",
    "If you look closely at the data you may notice that some properties were\n",
    "not completely captured by the model. For example, you may have seen\n",
    "that sometimes the model produces an `experience_years` number greater\n",
    "than `0` while also indicating that `work_experience` is `False`. These\n",
    "type of properties are what we call `Constraints` and can also be\n",
    "handled using `SDV`. For further details about them please visit the\n",
    "[Handling Constraints](04_Handling_Constraints.ipynb) guide.\n",
    "\n",
    "### Can I evaluate the Synthetic Data?\n",
    "\n",
    "A very common question when someone starts using **SDV** to generate\n",
    "synthetic data is: *\\\"How good is the data that I just generated?\\\"*\n",
    "\n",
    "In order to answer this question, **SDV** has a collection of metrics\n",
    "and tools that allow you to compare the *real* that you provided and the\n",
    "*synthetic* data that you generated using **SDV** or any other tool.\n",
    "\n",
    "You can read more about this in the [Evaluating Synthetic Data Generators](\n",
    "05_Evaluating_Synthetic_Data_Generators.ipynb) guide."
   ]
  }
 ],
 "metadata": {
  "kernelspec": {
   "display_name": "Python 3",
   "language": "python",
   "name": "python3"
  },
  "language_info": {
   "codemirror_mode": {
    "name": "ipython",
    "version": 3
   },
   "file_extension": ".py",
   "mimetype": "text/x-python",
   "name": "python",
   "nbconvert_exporter": "python",
   "pygments_lexer": "ipython3",
   "version": "3.8.5"
  }
 },
 "nbformat": 4,
 "nbformat_minor": 4
}
