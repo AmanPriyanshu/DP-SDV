{
 "cells": [
  {
   "cell_type": "markdown",
   "metadata": {},
   "source": [
    "GaussianCopula Model\n",
    "====================\n",
    "\n",
    "In this guide we will go through a series of steps that will let you\n",
    "discover functionalities of the `GaussianCopula` model, including how\n",
    "to:\n",
    "\n",
    "-   Create an instance of a `GaussianCopula`.\n",
    "-   Fit the instance to your data.\n",
    "-   Generate synthetic versions of your data.\n",
    "-   Use `GaussianCopula` to anonymize PII information.\n",
    "-   Customize the data transformations to improve the learning process.\n",
    "-   Specify the column distributions to improve the output quality.\n",
    "\n",
    "What is GaussianCopula?\n",
    "-----------------------\n",
    "\n",
    "The `sdv.tabular.GaussianCopula` model is based on [copula\n",
    "funtions](https://en.wikipedia.org/wiki/Copula_%28probability_theory%29).\n",
    "\n",
    "In mathematical terms, a *copula* is a distribution over the unit cube\n",
    "${\\displaystyle [0,1]^{d}}$ which is constructed from a multivariate\n",
    "normal distribution over ${\\displaystyle \\mathbb {R} ^{d}}$ by using the\n",
    "probability integral transform. Intuitively, a *copula* is a\n",
    "mathematical function that allows us to describe the joint distribution\n",
    "of multiple random variables by analyzing the dependencies between their\n",
    "marginal distributions.\n",
    "\n",
    "Let\\'s now discover how to learn a dataset and later on generate\n",
    "synthetic data with the same format and statistical properties by using\n",
    "the `GaussianCopula` model.\n",
    "\n",
    "Quick Usage\n",
    "-----------\n",
    "\n",
    "We will start by loading one of our demo datasets, the\n",
    "`student_placements`, which contains information about MBA students that\n",
    "applied for placements during the year 2020."
   ]
  },
  {
   "cell_type": "code",
   "execution_count": 1,
   "metadata": {
    "attributes": {
     "classes": [
      ""
     ],
     "id": ""
    }
   },
   "outputs": [
    {
     "data": {
      "text/html": [
       "<div>\n",
       "<style scoped>\n",
       "    .dataframe tbody tr th:only-of-type {\n",
       "        vertical-align: middle;\n",
       "    }\n",
       "\n",
       "    .dataframe tbody tr th {\n",
       "        vertical-align: top;\n",
       "    }\n",
       "\n",
       "    .dataframe thead th {\n",
       "        text-align: right;\n",
       "    }\n",
       "</style>\n",
       "<table border=\"1\" class=\"dataframe\">\n",
       "  <thead>\n",
       "    <tr style=\"text-align: right;\">\n",
       "      <th></th>\n",
       "      <th>student_id</th>\n",
       "      <th>gender</th>\n",
       "      <th>second_perc</th>\n",
       "      <th>high_perc</th>\n",
       "      <th>high_spec</th>\n",
       "      <th>degree_perc</th>\n",
       "      <th>degree_type</th>\n",
       "      <th>work_experience</th>\n",
       "      <th>experience_years</th>\n",
       "      <th>employability_perc</th>\n",
       "      <th>mba_spec</th>\n",
       "      <th>mba_perc</th>\n",
       "      <th>salary</th>\n",
       "      <th>placed</th>\n",
       "      <th>start_date</th>\n",
       "      <th>end_date</th>\n",
       "      <th>duration</th>\n",
       "    </tr>\n",
       "  </thead>\n",
       "  <tbody>\n",
       "    <tr>\n",
       "      <th>0</th>\n",
       "      <td>17264</td>\n",
       "      <td>M</td>\n",
       "      <td>67.00</td>\n",
       "      <td>91.00</td>\n",
       "      <td>Commerce</td>\n",
       "      <td>58.00</td>\n",
       "      <td>Sci&amp;Tech</td>\n",
       "      <td>False</td>\n",
       "      <td>0</td>\n",
       "      <td>55.0</td>\n",
       "      <td>Mkt&amp;HR</td>\n",
       "      <td>58.80</td>\n",
       "      <td>27000.0</td>\n",
       "      <td>True</td>\n",
       "      <td>2020-07-23</td>\n",
       "      <td>2020-10-12</td>\n",
       "      <td>3.0</td>\n",
       "    </tr>\n",
       "    <tr>\n",
       "      <th>1</th>\n",
       "      <td>17265</td>\n",
       "      <td>M</td>\n",
       "      <td>79.33</td>\n",
       "      <td>78.33</td>\n",
       "      <td>Science</td>\n",
       "      <td>77.48</td>\n",
       "      <td>Sci&amp;Tech</td>\n",
       "      <td>True</td>\n",
       "      <td>1</td>\n",
       "      <td>86.5</td>\n",
       "      <td>Mkt&amp;Fin</td>\n",
       "      <td>66.28</td>\n",
       "      <td>20000.0</td>\n",
       "      <td>True</td>\n",
       "      <td>2020-01-11</td>\n",
       "      <td>2020-04-09</td>\n",
       "      <td>3.0</td>\n",
       "    </tr>\n",
       "    <tr>\n",
       "      <th>2</th>\n",
       "      <td>17266</td>\n",
       "      <td>M</td>\n",
       "      <td>65.00</td>\n",
       "      <td>68.00</td>\n",
       "      <td>Arts</td>\n",
       "      <td>64.00</td>\n",
       "      <td>Comm&amp;Mgmt</td>\n",
       "      <td>False</td>\n",
       "      <td>0</td>\n",
       "      <td>75.0</td>\n",
       "      <td>Mkt&amp;Fin</td>\n",
       "      <td>57.80</td>\n",
       "      <td>25000.0</td>\n",
       "      <td>True</td>\n",
       "      <td>2020-01-26</td>\n",
       "      <td>2020-07-13</td>\n",
       "      <td>6.0</td>\n",
       "    </tr>\n",
       "    <tr>\n",
       "      <th>3</th>\n",
       "      <td>17267</td>\n",
       "      <td>M</td>\n",
       "      <td>56.00</td>\n",
       "      <td>52.00</td>\n",
       "      <td>Science</td>\n",
       "      <td>52.00</td>\n",
       "      <td>Sci&amp;Tech</td>\n",
       "      <td>False</td>\n",
       "      <td>0</td>\n",
       "      <td>66.0</td>\n",
       "      <td>Mkt&amp;HR</td>\n",
       "      <td>59.43</td>\n",
       "      <td>NaN</td>\n",
       "      <td>False</td>\n",
       "      <td>NaT</td>\n",
       "      <td>NaT</td>\n",
       "      <td>NaN</td>\n",
       "    </tr>\n",
       "    <tr>\n",
       "      <th>4</th>\n",
       "      <td>17268</td>\n",
       "      <td>M</td>\n",
       "      <td>85.80</td>\n",
       "      <td>73.60</td>\n",
       "      <td>Commerce</td>\n",
       "      <td>73.30</td>\n",
       "      <td>Comm&amp;Mgmt</td>\n",
       "      <td>False</td>\n",
       "      <td>0</td>\n",
       "      <td>96.8</td>\n",
       "      <td>Mkt&amp;Fin</td>\n",
       "      <td>55.50</td>\n",
       "      <td>42500.0</td>\n",
       "      <td>True</td>\n",
       "      <td>2020-07-04</td>\n",
       "      <td>2020-09-27</td>\n",
       "      <td>3.0</td>\n",
       "    </tr>\n",
       "  </tbody>\n",
       "</table>\n",
       "</div>"
      ],
      "text/plain": [
       "   student_id gender  second_perc  high_perc high_spec  degree_perc  \\\n",
       "0       17264      M        67.00      91.00  Commerce        58.00   \n",
       "1       17265      M        79.33      78.33   Science        77.48   \n",
       "2       17266      M        65.00      68.00      Arts        64.00   \n",
       "3       17267      M        56.00      52.00   Science        52.00   \n",
       "4       17268      M        85.80      73.60  Commerce        73.30   \n",
       "\n",
       "  degree_type  work_experience  experience_years  employability_perc mba_spec  \\\n",
       "0    Sci&Tech            False                 0                55.0   Mkt&HR   \n",
       "1    Sci&Tech             True                 1                86.5  Mkt&Fin   \n",
       "2   Comm&Mgmt            False                 0                75.0  Mkt&Fin   \n",
       "3    Sci&Tech            False                 0                66.0   Mkt&HR   \n",
       "4   Comm&Mgmt            False                 0                96.8  Mkt&Fin   \n",
       "\n",
       "   mba_perc   salary  placed start_date   end_date duration  \n",
       "0     58.80  27000.0    True 2020-07-23 2020-10-12      3.0  \n",
       "1     66.28  20000.0    True 2020-01-11 2020-04-09      3.0  \n",
       "2     57.80  25000.0    True 2020-01-26 2020-07-13      6.0  \n",
       "3     59.43      NaN   False        NaT        NaT      NaN  \n",
       "4     55.50  42500.0    True 2020-07-04 2020-09-27      3.0  "
      ]
     },
     "execution_count": 1,
     "metadata": {},
     "output_type": "execute_result"
    }
   ],
   "source": [
    "from sdv.demo import load_tabular_demo\n",
    "\n",
    "data = load_tabular_demo('student_placements')\n",
    "data.head()"
   ]
  },
  {
   "cell_type": "markdown",
   "metadata": {},
   "source": [
    "As you can see, this table contains information about students which\n",
    "includes, among other things:\n",
    "\n",
    "-   Their id and gender\n",
    "-   Their grades and specializations\n",
    "-   Their work experience\n",
    "-   The salary that they where offered\n",
    "-   The duration and dates of their placement\n",
    "\n",
    "You will notice that there is data with the following characteristics:\n",
    "\n",
    "-   There are float, integer, boolean, categorical and datetime values.\n",
    "-   There are some variables that have missing data. In particular, all\n",
    "    the data related to the placement details is missing in the rows\n",
    "    where the student was not placed.\n",
    "\n",
    "Let us use the `GaussianCopula` to learn this data and then sample\n",
    "synthetic data about new students to see how well de model captures the\n",
    "characteristics indicated above. In order to do this you will need to:\n",
    "\n",
    "-   Import the `sdv.tabular.GaussianCopula` class and create an instance\n",
    "    of it.\n",
    "-   Call its `fit` method passing our table.\n",
    "-   Call its `sample` method indicating the number of synthetic rows\n",
    "    that you want to generate."
   ]
  },
  {
   "cell_type": "code",
   "execution_count": 2,
   "metadata": {
    "attributes": {
     "classes": [
      ""
     ],
     "id": ""
    }
   },
   "outputs": [],
   "source": [
    "from sdv.tabular import GaussianCopula\n",
    "\n",
    "model = GaussianCopula()\n",
    "model.fit(data)"
   ]
  },
  {
   "cell_type": "markdown",
   "metadata": {},
   "source": [
    "<div class=\"alert alert-info\">\n",
    "\n",
    "**Note**\n",
    "\n",
    "Notice that the model `fitting` process took care of transforming the\n",
    "different fields using the appropriate [Reversible Data\n",
    "Transforms](http://github.com/sdv-dev/RDT) to ensure that the data has a\n",
    "format that the `GaussianMultivariate` model can handle.\n",
    "\n",
    "</div>\n",
    "\n",
    "### Generate synthetic data from the model\n",
    "\n",
    "Once the modeling has finished you are ready to generate new synthetic\n",
    "data by calling the `sample` method from your model passing the number\n",
    "of rows that we want to generate."
   ]
  },
  {
   "cell_type": "code",
   "execution_count": 3,
   "metadata": {
    "attributes": {
     "classes": [
      ""
     ],
     "id": ""
    }
   },
   "outputs": [],
   "source": [
    "new_data = model.sample(200)"
   ]
  },
  {
   "cell_type": "markdown",
   "metadata": {},
   "source": [
    "This will return a table identical to the one which the model was fitted\n",
    "on, but filled with new data which resembles the original one."
   ]
  },
  {
   "cell_type": "code",
   "execution_count": 4,
   "metadata": {
    "attributes": {
     "classes": [
      ""
     ],
     "id": ""
    }
   },
   "outputs": [
    {
     "data": {
      "text/html": [
       "<div>\n",
       "<style scoped>\n",
       "    .dataframe tbody tr th:only-of-type {\n",
       "        vertical-align: middle;\n",
       "    }\n",
       "\n",
       "    .dataframe tbody tr th {\n",
       "        vertical-align: top;\n",
       "    }\n",
       "\n",
       "    .dataframe thead th {\n",
       "        text-align: right;\n",
       "    }\n",
       "</style>\n",
       "<table border=\"1\" class=\"dataframe\">\n",
       "  <thead>\n",
       "    <tr style=\"text-align: right;\">\n",
       "      <th></th>\n",
       "      <th>student_id</th>\n",
       "      <th>gender</th>\n",
       "      <th>second_perc</th>\n",
       "      <th>high_perc</th>\n",
       "      <th>high_spec</th>\n",
       "      <th>degree_perc</th>\n",
       "      <th>degree_type</th>\n",
       "      <th>work_experience</th>\n",
       "      <th>experience_years</th>\n",
       "      <th>employability_perc</th>\n",
       "      <th>mba_spec</th>\n",
       "      <th>mba_perc</th>\n",
       "      <th>salary</th>\n",
       "      <th>placed</th>\n",
       "      <th>start_date</th>\n",
       "      <th>end_date</th>\n",
       "      <th>duration</th>\n",
       "    </tr>\n",
       "  </thead>\n",
       "  <tbody>\n",
       "    <tr>\n",
       "      <th>0</th>\n",
       "      <td>17373</td>\n",
       "      <td>M</td>\n",
       "      <td>58.387620</td>\n",
       "      <td>52.964588</td>\n",
       "      <td>Science</td>\n",
       "      <td>53.696312</td>\n",
       "      <td>Sci&amp;Tech</td>\n",
       "      <td>False</td>\n",
       "      <td>0</td>\n",
       "      <td>74.988191</td>\n",
       "      <td>Mkt&amp;HR</td>\n",
       "      <td>78.026614</td>\n",
       "      <td>NaN</td>\n",
       "      <td>False</td>\n",
       "      <td>NaT</td>\n",
       "      <td>NaT</td>\n",
       "      <td>NaN</td>\n",
       "    </tr>\n",
       "    <tr>\n",
       "      <th>1</th>\n",
       "      <td>17282</td>\n",
       "      <td>F</td>\n",
       "      <td>75.098608</td>\n",
       "      <td>72.182691</td>\n",
       "      <td>Commerce</td>\n",
       "      <td>74.472530</td>\n",
       "      <td>Comm&amp;Mgmt</td>\n",
       "      <td>False</td>\n",
       "      <td>0</td>\n",
       "      <td>64.837870</td>\n",
       "      <td>Mkt&amp;Fin</td>\n",
       "      <td>69.220672</td>\n",
       "      <td>26981.997110</td>\n",
       "      <td>True</td>\n",
       "      <td>2020-01-25</td>\n",
       "      <td>2020-09-10</td>\n",
       "      <td>3.0</td>\n",
       "    </tr>\n",
       "    <tr>\n",
       "      <th>2</th>\n",
       "      <td>17400</td>\n",
       "      <td>M</td>\n",
       "      <td>70.736428</td>\n",
       "      <td>87.743467</td>\n",
       "      <td>Commerce</td>\n",
       "      <td>63.050484</td>\n",
       "      <td>Comm&amp;Mgmt</td>\n",
       "      <td>False</td>\n",
       "      <td>0</td>\n",
       "      <td>97.235664</td>\n",
       "      <td>Mkt&amp;Fin</td>\n",
       "      <td>55.693988</td>\n",
       "      <td>32169.639395</td>\n",
       "      <td>True</td>\n",
       "      <td>2020-01-05</td>\n",
       "      <td>2020-08-29</td>\n",
       "      <td>12.0</td>\n",
       "    </tr>\n",
       "    <tr>\n",
       "      <th>3</th>\n",
       "      <td>17432</td>\n",
       "      <td>F</td>\n",
       "      <td>76.064733</td>\n",
       "      <td>62.604252</td>\n",
       "      <td>Science</td>\n",
       "      <td>67.130743</td>\n",
       "      <td>Sci&amp;Tech</td>\n",
       "      <td>False</td>\n",
       "      <td>0</td>\n",
       "      <td>59.377329</td>\n",
       "      <td>Mkt&amp;HR</td>\n",
       "      <td>67.043891</td>\n",
       "      <td>NaN</td>\n",
       "      <td>False</td>\n",
       "      <td>NaT</td>\n",
       "      <td>NaT</td>\n",
       "      <td>NaN</td>\n",
       "    </tr>\n",
       "    <tr>\n",
       "      <th>4</th>\n",
       "      <td>17309</td>\n",
       "      <td>M</td>\n",
       "      <td>75.139628</td>\n",
       "      <td>70.712957</td>\n",
       "      <td>Science</td>\n",
       "      <td>72.043976</td>\n",
       "      <td>Sci&amp;Tech</td>\n",
       "      <td>False</td>\n",
       "      <td>0</td>\n",
       "      <td>83.491147</td>\n",
       "      <td>Mkt&amp;Fin</td>\n",
       "      <td>66.598345</td>\n",
       "      <td>32140.400456</td>\n",
       "      <td>True</td>\n",
       "      <td>2020-01-15</td>\n",
       "      <td>2020-05-30</td>\n",
       "      <td>3.0</td>\n",
       "    </tr>\n",
       "  </tbody>\n",
       "</table>\n",
       "</div>"
      ],
      "text/plain": [
       "   student_id gender  second_perc  high_perc high_spec  degree_perc  \\\n",
       "0       17373      M    58.387620  52.964588   Science    53.696312   \n",
       "1       17282      F    75.098608  72.182691  Commerce    74.472530   \n",
       "2       17400      M    70.736428  87.743467  Commerce    63.050484   \n",
       "3       17432      F    76.064733  62.604252   Science    67.130743   \n",
       "4       17309      M    75.139628  70.712957   Science    72.043976   \n",
       "\n",
       "  degree_type  work_experience  experience_years  employability_perc mba_spec  \\\n",
       "0    Sci&Tech            False                 0           74.988191   Mkt&HR   \n",
       "1   Comm&Mgmt            False                 0           64.837870  Mkt&Fin   \n",
       "2   Comm&Mgmt            False                 0           97.235664  Mkt&Fin   \n",
       "3    Sci&Tech            False                 0           59.377329   Mkt&HR   \n",
       "4    Sci&Tech            False                 0           83.491147  Mkt&Fin   \n",
       "\n",
       "    mba_perc        salary  placed start_date   end_date duration  \n",
       "0  78.026614           NaN   False        NaT        NaT      NaN  \n",
       "1  69.220672  26981.997110    True 2020-01-25 2020-09-10      3.0  \n",
       "2  55.693988  32169.639395    True 2020-01-05 2020-08-29     12.0  \n",
       "3  67.043891           NaN   False        NaT        NaT      NaN  \n",
       "4  66.598345  32140.400456    True 2020-01-15 2020-05-30      3.0  "
      ]
     },
     "execution_count": 4,
     "metadata": {},
     "output_type": "execute_result"
    }
   ],
   "source": [
    "new_data.head()"
   ]
  },
  {
   "cell_type": "markdown",
   "metadata": {},
   "source": [
    "<div class=\"alert alert-info\">\n",
    "\n",
    "**Note**\n",
    "\n",
    "You can control the number of rows by specifying the number of `samples`\n",
    "in the `model.sample(<num_rows>)`. To test, try `model.sample(10000)`.\n",
    "Note that the original table only had \\~200 rows.\n",
    "\n",
    "</div>\n",
    "\n",
    "### Save and Load the model\n",
    "\n",
    "In many scenarios it will be convenient to generate synthetic versions\n",
    "of your data directly in systems that do not have access to the original\n",
    "data source. For example, if you may want to generate testing data on\n",
    "the fly inside a testing environment that does not have access to your\n",
    "production database. In these scenarios, fitting the model with real\n",
    "data every time that you need to generate new data is feasible, so you\n",
    "will need to fit a model in your production environment, save the fitted\n",
    "model into a file, send this file to the testing environment and then\n",
    "load it there to be able to `sample` from it.\n",
    "\n",
    "Let\\'s see how this process works.\n",
    "\n",
    "#### Save and share the model\n",
    "\n",
    "Once you have fitted the model, all you need to do is call its `save`\n",
    "method passing the name of the file in which you want to save the model.\n",
    "Note that the extension of the filename is not relevant, but we will be\n",
    "using the `.pkl` extension to highlight that the serialization protocol\n",
    "used is [pickle](https://docs.python.org/3/library/pickle.html)."
   ]
  },
  {
   "cell_type": "code",
   "execution_count": 5,
   "metadata": {
    "attributes": {
     "classes": [
      ""
     ],
     "id": ""
    }
   },
   "outputs": [],
   "source": [
    "model.save('my_model.pkl')"
   ]
  },
  {
   "cell_type": "markdown",
   "metadata": {},
   "source": [
    "This will have created a file called `my_model.pkl` in the same\n",
    "directory in which you are running SDV.\n",
    "\n",
    "<div class=\"alert alert-info\">\n",
    "\n",
    "**Important**\n",
    "\n",
    "If you inspect the generated file you will notice that its size is much\n",
    "smaller than the size of the data that you used to generate it. This is\n",
    "because the serialized model contains **no information about the\n",
    "original data**, other than the parameters it needs to generate\n",
    "synthetic versions of it. This means that you can safely share this\n",
    "`my_model.pkl` file without the risk of disclosing any of your real\n",
    "data!\n",
    "\n",
    "</div>\n",
    "\n",
    "#### Load the model and generate new data\n",
    "\n",
    "The file you just generated can be send over to the system where the\n",
    "synthetic data will be generated. Once it is there, you can load it\n",
    "using the `GaussianCopula.load` method, and then you are ready to sample\n",
    "new data from the loaded instance:"
   ]
  },
  {
   "cell_type": "code",
   "execution_count": 6,
   "metadata": {
    "attributes": {
     "classes": [
      ""
     ],
     "id": ""
    }
   },
   "outputs": [],
   "source": [
    "loaded = GaussianCopula.load('my_model.pkl')\n",
    "new_data = loaded.sample(200)"
   ]
  },
  {
   "cell_type": "markdown",
   "metadata": {},
   "source": [
    "<div class=\"alert alert-warning\">\n",
    "\n",
    "**Warning**\n",
    "\n",
    "Notice that the system where the model is loaded needs to also have\n",
    "`sdv` installed, otherwise it will not be able to load the model and use\n",
    "it.\n",
    "\n",
    "</div>\n",
    "\n",
    "### Specifying the Primary Key of the table\n",
    "\n",
    "One of the first things that you may have noticed when looking that demo\n",
    "data is that there is a `student_id` column which acts as the primary\n",
    "key of the table, and which is supposed to have unique values. Indeed,\n",
    "if we look at the number of times that each value appears, we see that\n",
    "all of them appear at most once:"
   ]
  },
  {
   "cell_type": "code",
   "execution_count": 7,
   "metadata": {
    "attributes": {
     "classes": [
      ""
     ],
     "id": ""
    }
   },
   "outputs": [
    {
     "data": {
      "text/plain": [
       "1"
      ]
     },
     "execution_count": 7,
     "metadata": {},
     "output_type": "execute_result"
    }
   ],
   "source": [
    "data.student_id.value_counts().max()"
   ]
  },
  {
   "cell_type": "markdown",
   "metadata": {},
   "source": [
    "However, if we look at the synthetic data that we generated, we observe\n",
    "that there are some values that appear more than once:"
   ]
  },
  {
   "cell_type": "code",
   "execution_count": 8,
   "metadata": {
    "attributes": {
     "classes": [
      ""
     ],
     "id": ""
    }
   },
   "outputs": [
    {
     "data": {
      "text/html": [
       "<div>\n",
       "<style scoped>\n",
       "    .dataframe tbody tr th:only-of-type {\n",
       "        vertical-align: middle;\n",
       "    }\n",
       "\n",
       "    .dataframe tbody tr th {\n",
       "        vertical-align: top;\n",
       "    }\n",
       "\n",
       "    .dataframe thead th {\n",
       "        text-align: right;\n",
       "    }\n",
       "</style>\n",
       "<table border=\"1\" class=\"dataframe\">\n",
       "  <thead>\n",
       "    <tr style=\"text-align: right;\">\n",
       "      <th></th>\n",
       "      <th>student_id</th>\n",
       "      <th>gender</th>\n",
       "      <th>second_perc</th>\n",
       "      <th>high_perc</th>\n",
       "      <th>high_spec</th>\n",
       "      <th>degree_perc</th>\n",
       "      <th>degree_type</th>\n",
       "      <th>work_experience</th>\n",
       "      <th>experience_years</th>\n",
       "      <th>employability_perc</th>\n",
       "      <th>mba_spec</th>\n",
       "      <th>mba_perc</th>\n",
       "      <th>salary</th>\n",
       "      <th>placed</th>\n",
       "      <th>start_date</th>\n",
       "      <th>end_date</th>\n",
       "      <th>duration</th>\n",
       "    </tr>\n",
       "  </thead>\n",
       "  <tbody>\n",
       "    <tr>\n",
       "      <th>104</th>\n",
       "      <td>17269</td>\n",
       "      <td>M</td>\n",
       "      <td>87.483943</td>\n",
       "      <td>110.317592</td>\n",
       "      <td>Commerce</td>\n",
       "      <td>70.759381</td>\n",
       "      <td>Sci&amp;Tech</td>\n",
       "      <td>False</td>\n",
       "      <td>1</td>\n",
       "      <td>58.502162</td>\n",
       "      <td>Mkt&amp;Fin</td>\n",
       "      <td>59.535882</td>\n",
       "      <td>28779.475053</td>\n",
       "      <td>True</td>\n",
       "      <td>2020-03-17</td>\n",
       "      <td>2020-07-11</td>\n",
       "      <td>3.0</td>\n",
       "    </tr>\n",
       "    <tr>\n",
       "      <th>143</th>\n",
       "      <td>17269</td>\n",
       "      <td>M</td>\n",
       "      <td>57.239499</td>\n",
       "      <td>69.013186</td>\n",
       "      <td>Science</td>\n",
       "      <td>55.543813</td>\n",
       "      <td>Sci&amp;Tech</td>\n",
       "      <td>False</td>\n",
       "      <td>0</td>\n",
       "      <td>64.298186</td>\n",
       "      <td>Mkt&amp;Fin</td>\n",
       "      <td>56.241848</td>\n",
       "      <td>NaN</td>\n",
       "      <td>False</td>\n",
       "      <td>NaT</td>\n",
       "      <td>NaT</td>\n",
       "      <td>NaN</td>\n",
       "    </tr>\n",
       "    <tr>\n",
       "      <th>147</th>\n",
       "      <td>17269</td>\n",
       "      <td>F</td>\n",
       "      <td>77.674823</td>\n",
       "      <td>93.487394</td>\n",
       "      <td>Commerce</td>\n",
       "      <td>69.815706</td>\n",
       "      <td>Comm&amp;Mgmt</td>\n",
       "      <td>False</td>\n",
       "      <td>0</td>\n",
       "      <td>72.534136</td>\n",
       "      <td>Mkt&amp;Fin</td>\n",
       "      <td>76.264659</td>\n",
       "      <td>21869.667077</td>\n",
       "      <td>True</td>\n",
       "      <td>2020-06-28</td>\n",
       "      <td>2020-08-06</td>\n",
       "      <td>3.0</td>\n",
       "    </tr>\n",
       "    <tr>\n",
       "      <th>186</th>\n",
       "      <td>17269</td>\n",
       "      <td>M</td>\n",
       "      <td>60.076974</td>\n",
       "      <td>63.953675</td>\n",
       "      <td>Commerce</td>\n",
       "      <td>62.053933</td>\n",
       "      <td>Comm&amp;Mgmt</td>\n",
       "      <td>False</td>\n",
       "      <td>0</td>\n",
       "      <td>57.228118</td>\n",
       "      <td>Mkt&amp;Fin</td>\n",
       "      <td>68.912877</td>\n",
       "      <td>NaN</td>\n",
       "      <td>False</td>\n",
       "      <td>NaT</td>\n",
       "      <td>NaT</td>\n",
       "      <td>NaN</td>\n",
       "    </tr>\n",
       "  </tbody>\n",
       "</table>\n",
       "</div>"
      ],
      "text/plain": [
       "     student_id gender  second_perc   high_perc high_spec  degree_perc  \\\n",
       "104       17269      M    87.483943  110.317592  Commerce    70.759381   \n",
       "143       17269      M    57.239499   69.013186   Science    55.543813   \n",
       "147       17269      F    77.674823   93.487394  Commerce    69.815706   \n",
       "186       17269      M    60.076974   63.953675  Commerce    62.053933   \n",
       "\n",
       "    degree_type  work_experience  experience_years  employability_perc  \\\n",
       "104    Sci&Tech            False                 1           58.502162   \n",
       "143    Sci&Tech            False                 0           64.298186   \n",
       "147   Comm&Mgmt            False                 0           72.534136   \n",
       "186   Comm&Mgmt            False                 0           57.228118   \n",
       "\n",
       "    mba_spec   mba_perc        salary  placed start_date   end_date duration  \n",
       "104  Mkt&Fin  59.535882  28779.475053    True 2020-03-17 2020-07-11      3.0  \n",
       "143  Mkt&Fin  56.241848           NaN   False        NaT        NaT      NaN  \n",
       "147  Mkt&Fin  76.264659  21869.667077    True 2020-06-28 2020-08-06      3.0  \n",
       "186  Mkt&Fin  68.912877           NaN   False        NaT        NaT      NaN  "
      ]
     },
     "execution_count": 8,
     "metadata": {},
     "output_type": "execute_result"
    }
   ],
   "source": [
    "new_data[new_data.student_id == new_data.student_id.value_counts().index[0]]"
   ]
  },
  {
   "cell_type": "markdown",
   "metadata": {},
   "source": [
    "This happens because the model was not notified at any point about the\n",
    "fact that the `student_id` had to be unique, so when it generates new\n",
    "data it will provoke collisions sooner or later. In order to solve this,\n",
    "we can pass the argument `primary_key` to our model when we create it,\n",
    "indicating the name of the column that is the index of the table."
   ]
  },
  {
   "cell_type": "code",
   "execution_count": 9,
   "metadata": {
    "attributes": {
     "classes": [
      ""
     ],
     "id": ""
    }
   },
   "outputs": [
    {
     "data": {
      "text/html": [
       "<div>\n",
       "<style scoped>\n",
       "    .dataframe tbody tr th:only-of-type {\n",
       "        vertical-align: middle;\n",
       "    }\n",
       "\n",
       "    .dataframe tbody tr th {\n",
       "        vertical-align: top;\n",
       "    }\n",
       "\n",
       "    .dataframe thead th {\n",
       "        text-align: right;\n",
       "    }\n",
       "</style>\n",
       "<table border=\"1\" class=\"dataframe\">\n",
       "  <thead>\n",
       "    <tr style=\"text-align: right;\">\n",
       "      <th></th>\n",
       "      <th>student_id</th>\n",
       "      <th>gender</th>\n",
       "      <th>second_perc</th>\n",
       "      <th>high_perc</th>\n",
       "      <th>high_spec</th>\n",
       "      <th>degree_perc</th>\n",
       "      <th>degree_type</th>\n",
       "      <th>work_experience</th>\n",
       "      <th>experience_years</th>\n",
       "      <th>employability_perc</th>\n",
       "      <th>mba_spec</th>\n",
       "      <th>mba_perc</th>\n",
       "      <th>salary</th>\n",
       "      <th>placed</th>\n",
       "      <th>start_date</th>\n",
       "      <th>end_date</th>\n",
       "      <th>duration</th>\n",
       "    </tr>\n",
       "  </thead>\n",
       "  <tbody>\n",
       "    <tr>\n",
       "      <th>0</th>\n",
       "      <td>0</td>\n",
       "      <td>M</td>\n",
       "      <td>61.409870</td>\n",
       "      <td>70.667918</td>\n",
       "      <td>Commerce</td>\n",
       "      <td>68.541709</td>\n",
       "      <td>Comm&amp;Mgmt</td>\n",
       "      <td>False</td>\n",
       "      <td>-1</td>\n",
       "      <td>56.980574</td>\n",
       "      <td>Mkt&amp;HR</td>\n",
       "      <td>54.650546</td>\n",
       "      <td>22104.019619</td>\n",
       "      <td>True</td>\n",
       "      <td>2020-01-28</td>\n",
       "      <td>2020-06-03</td>\n",
       "      <td>3.0</td>\n",
       "    </tr>\n",
       "    <tr>\n",
       "      <th>1</th>\n",
       "      <td>1</td>\n",
       "      <td>F</td>\n",
       "      <td>79.617273</td>\n",
       "      <td>71.741462</td>\n",
       "      <td>Science</td>\n",
       "      <td>89.106488</td>\n",
       "      <td>Comm&amp;Mgmt</td>\n",
       "      <td>False</td>\n",
       "      <td>0</td>\n",
       "      <td>72.044255</td>\n",
       "      <td>Mkt&amp;Fin</td>\n",
       "      <td>75.794918</td>\n",
       "      <td>25575.336247</td>\n",
       "      <td>True</td>\n",
       "      <td>2020-01-11</td>\n",
       "      <td>2020-04-07</td>\n",
       "      <td>3.0</td>\n",
       "    </tr>\n",
       "    <tr>\n",
       "      <th>2</th>\n",
       "      <td>2</td>\n",
       "      <td>F</td>\n",
       "      <td>55.734193</td>\n",
       "      <td>48.669853</td>\n",
       "      <td>Arts</td>\n",
       "      <td>59.631505</td>\n",
       "      <td>Comm&amp;Mgmt</td>\n",
       "      <td>False</td>\n",
       "      <td>-1</td>\n",
       "      <td>89.264011</td>\n",
       "      <td>Mkt&amp;HR</td>\n",
       "      <td>59.330819</td>\n",
       "      <td>19941.250872</td>\n",
       "      <td>True</td>\n",
       "      <td>2020-01-04</td>\n",
       "      <td>2020-03-10</td>\n",
       "      <td>3.0</td>\n",
       "    </tr>\n",
       "    <tr>\n",
       "      <th>3</th>\n",
       "      <td>3</td>\n",
       "      <td>M</td>\n",
       "      <td>72.383976</td>\n",
       "      <td>58.972381</td>\n",
       "      <td>Commerce</td>\n",
       "      <td>77.077422</td>\n",
       "      <td>Comm&amp;Mgmt</td>\n",
       "      <td>False</td>\n",
       "      <td>1</td>\n",
       "      <td>71.095514</td>\n",
       "      <td>Mkt&amp;Fin</td>\n",
       "      <td>65.244331</td>\n",
       "      <td>26817.309806</td>\n",
       "      <td>True</td>\n",
       "      <td>2020-01-08</td>\n",
       "      <td>2020-07-13</td>\n",
       "      <td>3.0</td>\n",
       "    </tr>\n",
       "    <tr>\n",
       "      <th>4</th>\n",
       "      <td>4</td>\n",
       "      <td>M</td>\n",
       "      <td>67.577519</td>\n",
       "      <td>69.380068</td>\n",
       "      <td>Science</td>\n",
       "      <td>69.591472</td>\n",
       "      <td>Sci&amp;Tech</td>\n",
       "      <td>False</td>\n",
       "      <td>0</td>\n",
       "      <td>83.619679</td>\n",
       "      <td>Mkt&amp;Fin</td>\n",
       "      <td>61.201599</td>\n",
       "      <td>NaN</td>\n",
       "      <td>False</td>\n",
       "      <td>NaT</td>\n",
       "      <td>NaT</td>\n",
       "      <td>NaN</td>\n",
       "    </tr>\n",
       "  </tbody>\n",
       "</table>\n",
       "</div>"
      ],
      "text/plain": [
       "   student_id gender  second_perc  high_perc high_spec  degree_perc  \\\n",
       "0           0      M    61.409870  70.667918  Commerce    68.541709   \n",
       "1           1      F    79.617273  71.741462   Science    89.106488   \n",
       "2           2      F    55.734193  48.669853      Arts    59.631505   \n",
       "3           3      M    72.383976  58.972381  Commerce    77.077422   \n",
       "4           4      M    67.577519  69.380068   Science    69.591472   \n",
       "\n",
       "  degree_type  work_experience  experience_years  employability_perc mba_spec  \\\n",
       "0   Comm&Mgmt            False                -1           56.980574   Mkt&HR   \n",
       "1   Comm&Mgmt            False                 0           72.044255  Mkt&Fin   \n",
       "2   Comm&Mgmt            False                -1           89.264011   Mkt&HR   \n",
       "3   Comm&Mgmt            False                 1           71.095514  Mkt&Fin   \n",
       "4    Sci&Tech            False                 0           83.619679  Mkt&Fin   \n",
       "\n",
       "    mba_perc        salary  placed start_date   end_date duration  \n",
       "0  54.650546  22104.019619    True 2020-01-28 2020-06-03      3.0  \n",
       "1  75.794918  25575.336247    True 2020-01-11 2020-04-07      3.0  \n",
       "2  59.330819  19941.250872    True 2020-01-04 2020-03-10      3.0  \n",
       "3  65.244331  26817.309806    True 2020-01-08 2020-07-13      3.0  \n",
       "4  61.201599           NaN   False        NaT        NaT      NaN  "
      ]
     },
     "execution_count": 9,
     "metadata": {},
     "output_type": "execute_result"
    }
   ],
   "source": [
    "model = GaussianCopula(\n",
    "    primary_key='student_id'\n",
    ")\n",
    "model.fit(data)\n",
    "new_data = model.sample(200)\n",
    "new_data.head()"
   ]
  },
  {
   "cell_type": "markdown",
   "metadata": {},
   "source": [
    "As a result, the model will learn that this column must be unique and\n",
    "generate a unique sequence of values for the column:"
   ]
  },
  {
   "cell_type": "code",
   "execution_count": 10,
   "metadata": {
    "attributes": {
     "classes": [
      ""
     ],
     "id": ""
    }
   },
   "outputs": [
    {
     "data": {
      "text/plain": [
       "1"
      ]
     },
     "execution_count": 10,
     "metadata": {},
     "output_type": "execute_result"
    }
   ],
   "source": [
    "new_data.student_id.value_counts().max()"
   ]
  },
  {
   "cell_type": "markdown",
   "metadata": {},
   "source": [
    "### Anonymizing Personally Identifiable Information (PII)\n",
    "\n",
    "There will be many cases where the data will contain Personally\n",
    "Identifiable Information which we cannot disclose. In these cases, we\n",
    "will want our Tabular Models to replace the information within these\n",
    "fields with fake, simulated data that looks similar to the real one but\n",
    "does not contain any of the original values.\n",
    "\n",
    "Let\\'s load a new dataset that contains a PII field, the\n",
    "`student_placements_pii` demo, and try to generate synthetic versions of\n",
    "it that do not contain any of the PII fields.\n",
    "\n",
    "<div class=\"alert alert-info\">\n",
    "\n",
    "**Note**\n",
    "\n",
    "The `student_placements_pii` dataset is a modified version of the\n",
    "`student_placements` dataset with one new field, `address`, which\n",
    "contains PII information about the students. Notice that this additional\n",
    "`address` field has been simulated and does not correspond to data from\n",
    "the real users.\n",
    "\n",
    "</div>"
   ]
  },
  {
   "cell_type": "code",
   "execution_count": 11,
   "metadata": {
    "attributes": {
     "classes": [
      ""
     ],
     "id": ""
    }
   },
   "outputs": [
    {
     "data": {
      "text/html": [
       "<div>\n",
       "<style scoped>\n",
       "    .dataframe tbody tr th:only-of-type {\n",
       "        vertical-align: middle;\n",
       "    }\n",
       "\n",
       "    .dataframe tbody tr th {\n",
       "        vertical-align: top;\n",
       "    }\n",
       "\n",
       "    .dataframe thead th {\n",
       "        text-align: right;\n",
       "    }\n",
       "</style>\n",
       "<table border=\"1\" class=\"dataframe\">\n",
       "  <thead>\n",
       "    <tr style=\"text-align: right;\">\n",
       "      <th></th>\n",
       "      <th>student_id</th>\n",
       "      <th>address</th>\n",
       "      <th>gender</th>\n",
       "      <th>second_perc</th>\n",
       "      <th>high_perc</th>\n",
       "      <th>high_spec</th>\n",
       "      <th>degree_perc</th>\n",
       "      <th>degree_type</th>\n",
       "      <th>work_experience</th>\n",
       "      <th>experience_years</th>\n",
       "      <th>employability_perc</th>\n",
       "      <th>mba_spec</th>\n",
       "      <th>mba_perc</th>\n",
       "      <th>salary</th>\n",
       "      <th>placed</th>\n",
       "      <th>start_date</th>\n",
       "      <th>end_date</th>\n",
       "      <th>duration</th>\n",
       "    </tr>\n",
       "  </thead>\n",
       "  <tbody>\n",
       "    <tr>\n",
       "      <th>0</th>\n",
       "      <td>17264</td>\n",
       "      <td>70304 Baker Turnpike\\nEricborough, MS 15086</td>\n",
       "      <td>M</td>\n",
       "      <td>67.00</td>\n",
       "      <td>91.00</td>\n",
       "      <td>Commerce</td>\n",
       "      <td>58.00</td>\n",
       "      <td>Sci&amp;Tech</td>\n",
       "      <td>False</td>\n",
       "      <td>0</td>\n",
       "      <td>55.0</td>\n",
       "      <td>Mkt&amp;HR</td>\n",
       "      <td>58.80</td>\n",
       "      <td>27000.0</td>\n",
       "      <td>True</td>\n",
       "      <td>2020-07-23</td>\n",
       "      <td>2020-10-12</td>\n",
       "      <td>3.0</td>\n",
       "    </tr>\n",
       "    <tr>\n",
       "      <th>1</th>\n",
       "      <td>17265</td>\n",
       "      <td>805 Herrera Avenue Apt. 134\\nMaryview, NJ 36510</td>\n",
       "      <td>M</td>\n",
       "      <td>79.33</td>\n",
       "      <td>78.33</td>\n",
       "      <td>Science</td>\n",
       "      <td>77.48</td>\n",
       "      <td>Sci&amp;Tech</td>\n",
       "      <td>True</td>\n",
       "      <td>1</td>\n",
       "      <td>86.5</td>\n",
       "      <td>Mkt&amp;Fin</td>\n",
       "      <td>66.28</td>\n",
       "      <td>20000.0</td>\n",
       "      <td>True</td>\n",
       "      <td>2020-01-11</td>\n",
       "      <td>2020-04-09</td>\n",
       "      <td>3.0</td>\n",
       "    </tr>\n",
       "    <tr>\n",
       "      <th>2</th>\n",
       "      <td>17266</td>\n",
       "      <td>3702 Bradley Island\\nNorth Victor, FL 12268</td>\n",
       "      <td>M</td>\n",
       "      <td>65.00</td>\n",
       "      <td>68.00</td>\n",
       "      <td>Arts</td>\n",
       "      <td>64.00</td>\n",
       "      <td>Comm&amp;Mgmt</td>\n",
       "      <td>False</td>\n",
       "      <td>0</td>\n",
       "      <td>75.0</td>\n",
       "      <td>Mkt&amp;Fin</td>\n",
       "      <td>57.80</td>\n",
       "      <td>25000.0</td>\n",
       "      <td>True</td>\n",
       "      <td>2020-01-26</td>\n",
       "      <td>2020-07-13</td>\n",
       "      <td>6.0</td>\n",
       "    </tr>\n",
       "    <tr>\n",
       "      <th>3</th>\n",
       "      <td>17267</td>\n",
       "      <td>Unit 0879 Box 3878\\nDPO AP 42663</td>\n",
       "      <td>M</td>\n",
       "      <td>56.00</td>\n",
       "      <td>52.00</td>\n",
       "      <td>Science</td>\n",
       "      <td>52.00</td>\n",
       "      <td>Sci&amp;Tech</td>\n",
       "      <td>False</td>\n",
       "      <td>0</td>\n",
       "      <td>66.0</td>\n",
       "      <td>Mkt&amp;HR</td>\n",
       "      <td>59.43</td>\n",
       "      <td>NaN</td>\n",
       "      <td>False</td>\n",
       "      <td>NaT</td>\n",
       "      <td>NaT</td>\n",
       "      <td>NaN</td>\n",
       "    </tr>\n",
       "    <tr>\n",
       "      <th>4</th>\n",
       "      <td>17268</td>\n",
       "      <td>96493 Kelly Canyon Apt. 145\\nEast Steven, NC 3...</td>\n",
       "      <td>M</td>\n",
       "      <td>85.80</td>\n",
       "      <td>73.60</td>\n",
       "      <td>Commerce</td>\n",
       "      <td>73.30</td>\n",
       "      <td>Comm&amp;Mgmt</td>\n",
       "      <td>False</td>\n",
       "      <td>0</td>\n",
       "      <td>96.8</td>\n",
       "      <td>Mkt&amp;Fin</td>\n",
       "      <td>55.50</td>\n",
       "      <td>42500.0</td>\n",
       "      <td>True</td>\n",
       "      <td>2020-07-04</td>\n",
       "      <td>2020-09-27</td>\n",
       "      <td>3.0</td>\n",
       "    </tr>\n",
       "  </tbody>\n",
       "</table>\n",
       "</div>"
      ],
      "text/plain": [
       "   student_id                                            address gender  \\\n",
       "0       17264        70304 Baker Turnpike\\nEricborough, MS 15086      M   \n",
       "1       17265    805 Herrera Avenue Apt. 134\\nMaryview, NJ 36510      M   \n",
       "2       17266        3702 Bradley Island\\nNorth Victor, FL 12268      M   \n",
       "3       17267                   Unit 0879 Box 3878\\nDPO AP 42663      M   \n",
       "4       17268  96493 Kelly Canyon Apt. 145\\nEast Steven, NC 3...      M   \n",
       "\n",
       "   second_perc  high_perc high_spec  degree_perc degree_type  work_experience  \\\n",
       "0        67.00      91.00  Commerce        58.00    Sci&Tech            False   \n",
       "1        79.33      78.33   Science        77.48    Sci&Tech             True   \n",
       "2        65.00      68.00      Arts        64.00   Comm&Mgmt            False   \n",
       "3        56.00      52.00   Science        52.00    Sci&Tech            False   \n",
       "4        85.80      73.60  Commerce        73.30   Comm&Mgmt            False   \n",
       "\n",
       "   experience_years  employability_perc mba_spec  mba_perc   salary  placed  \\\n",
       "0                 0                55.0   Mkt&HR     58.80  27000.0    True   \n",
       "1                 1                86.5  Mkt&Fin     66.28  20000.0    True   \n",
       "2                 0                75.0  Mkt&Fin     57.80  25000.0    True   \n",
       "3                 0                66.0   Mkt&HR     59.43      NaN   False   \n",
       "4                 0                96.8  Mkt&Fin     55.50  42500.0    True   \n",
       "\n",
       "  start_date   end_date duration  \n",
       "0 2020-07-23 2020-10-12      3.0  \n",
       "1 2020-01-11 2020-04-09      3.0  \n",
       "2 2020-01-26 2020-07-13      6.0  \n",
       "3        NaT        NaT      NaN  \n",
       "4 2020-07-04 2020-09-27      3.0  "
      ]
     },
     "execution_count": 11,
     "metadata": {},
     "output_type": "execute_result"
    }
   ],
   "source": [
    "data_pii = load_tabular_demo('student_placements_pii')\n",
    "data_pii.head()"
   ]
  },
  {
   "cell_type": "markdown",
   "metadata": {},
   "source": [
    "If we use our tabular model on this new data we will see how the\n",
    "synthetic data that it generates discloses the addresses from the real\n",
    "students:"
   ]
  },
  {
   "cell_type": "code",
   "execution_count": 12,
   "metadata": {
    "attributes": {
     "classes": [
      ""
     ],
     "id": ""
    }
   },
   "outputs": [
    {
     "data": {
      "text/html": [
       "<div>\n",
       "<style scoped>\n",
       "    .dataframe tbody tr th:only-of-type {\n",
       "        vertical-align: middle;\n",
       "    }\n",
       "\n",
       "    .dataframe tbody tr th {\n",
       "        vertical-align: top;\n",
       "    }\n",
       "\n",
       "    .dataframe thead th {\n",
       "        text-align: right;\n",
       "    }\n",
       "</style>\n",
       "<table border=\"1\" class=\"dataframe\">\n",
       "  <thead>\n",
       "    <tr style=\"text-align: right;\">\n",
       "      <th></th>\n",
       "      <th>student_id</th>\n",
       "      <th>address</th>\n",
       "      <th>gender</th>\n",
       "      <th>second_perc</th>\n",
       "      <th>high_perc</th>\n",
       "      <th>high_spec</th>\n",
       "      <th>degree_perc</th>\n",
       "      <th>degree_type</th>\n",
       "      <th>work_experience</th>\n",
       "      <th>experience_years</th>\n",
       "      <th>employability_perc</th>\n",
       "      <th>mba_spec</th>\n",
       "      <th>mba_perc</th>\n",
       "      <th>salary</th>\n",
       "      <th>placed</th>\n",
       "      <th>start_date</th>\n",
       "      <th>end_date</th>\n",
       "      <th>duration</th>\n",
       "    </tr>\n",
       "  </thead>\n",
       "  <tbody>\n",
       "    <tr>\n",
       "      <th>0</th>\n",
       "      <td>0</td>\n",
       "      <td>5449 Evans Well\\nPort Brett, DE 56274</td>\n",
       "      <td>F</td>\n",
       "      <td>66.180613</td>\n",
       "      <td>59.831272</td>\n",
       "      <td>Commerce</td>\n",
       "      <td>76.378165</td>\n",
       "      <td>Comm&amp;Mgmt</td>\n",
       "      <td>False</td>\n",
       "      <td>0</td>\n",
       "      <td>60.442591</td>\n",
       "      <td>Mkt&amp;Fin</td>\n",
       "      <td>63.016139</td>\n",
       "      <td>25171.387442</td>\n",
       "      <td>True</td>\n",
       "      <td>2020-02-06</td>\n",
       "      <td>2020-08-17</td>\n",
       "      <td>3.0</td>\n",
       "    </tr>\n",
       "    <tr>\n",
       "      <th>1</th>\n",
       "      <td>1</td>\n",
       "      <td>653 Mark Forge Suite 804\\nBillyview, KS 58544</td>\n",
       "      <td>M</td>\n",
       "      <td>85.130150</td>\n",
       "      <td>85.654018</td>\n",
       "      <td>Commerce</td>\n",
       "      <td>63.438194</td>\n",
       "      <td>Comm&amp;Mgmt</td>\n",
       "      <td>False</td>\n",
       "      <td>0</td>\n",
       "      <td>96.773614</td>\n",
       "      <td>Mkt&amp;HR</td>\n",
       "      <td>65.702341</td>\n",
       "      <td>32015.670281</td>\n",
       "      <td>True</td>\n",
       "      <td>2020-01-08</td>\n",
       "      <td>2020-07-04</td>\n",
       "      <td>3.0</td>\n",
       "    </tr>\n",
       "    <tr>\n",
       "      <th>2</th>\n",
       "      <td>2</td>\n",
       "      <td>09592 Walter Pines\\nRobertstad, HI 86102</td>\n",
       "      <td>F</td>\n",
       "      <td>81.605599</td>\n",
       "      <td>65.939516</td>\n",
       "      <td>Science</td>\n",
       "      <td>76.889287</td>\n",
       "      <td>Comm&amp;Mgmt</td>\n",
       "      <td>False</td>\n",
       "      <td>1</td>\n",
       "      <td>97.514417</td>\n",
       "      <td>Mkt&amp;Fin</td>\n",
       "      <td>74.508167</td>\n",
       "      <td>30083.577498</td>\n",
       "      <td>True</td>\n",
       "      <td>2020-01-02</td>\n",
       "      <td>2020-08-28</td>\n",
       "      <td>12.0</td>\n",
       "    </tr>\n",
       "    <tr>\n",
       "      <th>3</th>\n",
       "      <td>3</td>\n",
       "      <td>786 Shane Bridge Suite 165\\nNorth Douglas, GA ...</td>\n",
       "      <td>F</td>\n",
       "      <td>56.055318</td>\n",
       "      <td>59.821817</td>\n",
       "      <td>Commerce</td>\n",
       "      <td>50.523135</td>\n",
       "      <td>Comm&amp;Mgmt</td>\n",
       "      <td>False</td>\n",
       "      <td>0</td>\n",
       "      <td>67.130213</td>\n",
       "      <td>Mkt&amp;Fin</td>\n",
       "      <td>55.812613</td>\n",
       "      <td>33257.038243</td>\n",
       "      <td>True</td>\n",
       "      <td>2020-05-24</td>\n",
       "      <td>2020-12-02</td>\n",
       "      <td>3.0</td>\n",
       "    </tr>\n",
       "    <tr>\n",
       "      <th>4</th>\n",
       "      <td>4</td>\n",
       "      <td>36924 Jamie Cliffs\\nPhillipmouth, TX 21393</td>\n",
       "      <td>F</td>\n",
       "      <td>72.260550</td>\n",
       "      <td>56.415165</td>\n",
       "      <td>Science</td>\n",
       "      <td>63.987574</td>\n",
       "      <td>Others</td>\n",
       "      <td>False</td>\n",
       "      <td>1</td>\n",
       "      <td>67.938208</td>\n",
       "      <td>Mkt&amp;HR</td>\n",
       "      <td>69.764694</td>\n",
       "      <td>27715.657611</td>\n",
       "      <td>True</td>\n",
       "      <td>2020-01-04</td>\n",
       "      <td>2020-08-02</td>\n",
       "      <td>12.0</td>\n",
       "    </tr>\n",
       "  </tbody>\n",
       "</table>\n",
       "</div>"
      ],
      "text/plain": [
       "   student_id                                            address gender  \\\n",
       "0           0              5449 Evans Well\\nPort Brett, DE 56274      F   \n",
       "1           1      653 Mark Forge Suite 804\\nBillyview, KS 58544      M   \n",
       "2           2           09592 Walter Pines\\nRobertstad, HI 86102      F   \n",
       "3           3  786 Shane Bridge Suite 165\\nNorth Douglas, GA ...      F   \n",
       "4           4         36924 Jamie Cliffs\\nPhillipmouth, TX 21393      F   \n",
       "\n",
       "   second_perc  high_perc high_spec  degree_perc degree_type  work_experience  \\\n",
       "0    66.180613  59.831272  Commerce    76.378165   Comm&Mgmt            False   \n",
       "1    85.130150  85.654018  Commerce    63.438194   Comm&Mgmt            False   \n",
       "2    81.605599  65.939516   Science    76.889287   Comm&Mgmt            False   \n",
       "3    56.055318  59.821817  Commerce    50.523135   Comm&Mgmt            False   \n",
       "4    72.260550  56.415165   Science    63.987574      Others            False   \n",
       "\n",
       "   experience_years  employability_perc mba_spec   mba_perc        salary  \\\n",
       "0                 0           60.442591  Mkt&Fin  63.016139  25171.387442   \n",
       "1                 0           96.773614   Mkt&HR  65.702341  32015.670281   \n",
       "2                 1           97.514417  Mkt&Fin  74.508167  30083.577498   \n",
       "3                 0           67.130213  Mkt&Fin  55.812613  33257.038243   \n",
       "4                 1           67.938208   Mkt&HR  69.764694  27715.657611   \n",
       "\n",
       "   placed start_date   end_date duration  \n",
       "0    True 2020-02-06 2020-08-17      3.0  \n",
       "1    True 2020-01-08 2020-07-04      3.0  \n",
       "2    True 2020-01-02 2020-08-28     12.0  \n",
       "3    True 2020-05-24 2020-12-02      3.0  \n",
       "4    True 2020-01-04 2020-08-02     12.0  "
      ]
     },
     "execution_count": 12,
     "metadata": {},
     "output_type": "execute_result"
    }
   ],
   "source": [
    "model = GaussianCopula(\n",
    "    primary_key='student_id',\n",
    ")\n",
    "model.fit(data_pii)\n",
    "new_data_pii = model.sample(200)\n",
    "new_data_pii.head()"
   ]
  },
  {
   "cell_type": "markdown",
   "metadata": {},
   "source": [
    "More specifically, we can see how all the addresses that have been\n",
    "generated actually come from the original dataset:"
   ]
  },
  {
   "cell_type": "code",
   "execution_count": 13,
   "metadata": {
    "attributes": {
     "classes": [
      ""
     ],
     "id": ""
    }
   },
   "outputs": [
    {
     "data": {
      "text/plain": [
       "200"
      ]
     },
     "execution_count": 13,
     "metadata": {},
     "output_type": "execute_result"
    }
   ],
   "source": [
    "new_data_pii.address.isin(data_pii.address).sum()"
   ]
  },
  {
   "cell_type": "markdown",
   "metadata": {},
   "source": [
    "In order to solve this, we can pass an additional argument\n",
    "`anonymize_fields` to our model when we create the instance. This\n",
    "`anonymize_fields` argument will need to be a dictionary that contains:\n",
    "\n",
    "-   The name of the field that we want to anonymize.\n",
    "-   The category of the field that we want to use when we generate fake\n",
    "    values for it.\n",
    "\n",
    "The list complete list of possible categories can be seen in the [Faker\n",
    "Providers](https://faker.readthedocs.io/en/master/providers.html) page,\n",
    "and it contains a huge list of concepts such as:\n",
    "\n",
    "-   name\n",
    "-   address\n",
    "-   country\n",
    "-   city\n",
    "-   ssn\n",
    "-   credit_card_number\n",
    "-   credit_card_expire\n",
    "-   credit_card_security_code\n",
    "-   email\n",
    "-   telephone\n",
    "-   \\...\n",
    "\n",
    "In this case, since the field is an e-mail address, we will pass a\n",
    "dictionary indicating the category `address`"
   ]
  },
  {
   "cell_type": "code",
   "execution_count": 14,
   "metadata": {
    "attributes": {
     "classes": [
      ""
     ],
     "id": ""
    }
   },
   "outputs": [],
   "source": [
    "model = GaussianCopula(\n",
    "    primary_key='student_id',\n",
    "    anonymize_fields={\n",
    "        'address': 'address'\n",
    "    }\n",
    ")\n",
    "model.fit(data_pii)"
   ]
  },
  {
   "cell_type": "markdown",
   "metadata": {},
   "source": [
    "As a result, we can see how the real `address` values have been replaced\n",
    "by other fake addresses:"
   ]
  },
  {
   "cell_type": "code",
   "execution_count": 15,
   "metadata": {
    "attributes": {
     "classes": [
      ""
     ],
     "id": ""
    }
   },
   "outputs": [
    {
     "data": {
      "text/html": [
       "<div>\n",
       "<style scoped>\n",
       "    .dataframe tbody tr th:only-of-type {\n",
       "        vertical-align: middle;\n",
       "    }\n",
       "\n",
       "    .dataframe tbody tr th {\n",
       "        vertical-align: top;\n",
       "    }\n",
       "\n",
       "    .dataframe thead th {\n",
       "        text-align: right;\n",
       "    }\n",
       "</style>\n",
       "<table border=\"1\" class=\"dataframe\">\n",
       "  <thead>\n",
       "    <tr style=\"text-align: right;\">\n",
       "      <th></th>\n",
       "      <th>student_id</th>\n",
       "      <th>address</th>\n",
       "      <th>gender</th>\n",
       "      <th>second_perc</th>\n",
       "      <th>high_perc</th>\n",
       "      <th>high_spec</th>\n",
       "      <th>degree_perc</th>\n",
       "      <th>degree_type</th>\n",
       "      <th>work_experience</th>\n",
       "      <th>experience_years</th>\n",
       "      <th>employability_perc</th>\n",
       "      <th>mba_spec</th>\n",
       "      <th>mba_perc</th>\n",
       "      <th>salary</th>\n",
       "      <th>placed</th>\n",
       "      <th>start_date</th>\n",
       "      <th>end_date</th>\n",
       "      <th>duration</th>\n",
       "    </tr>\n",
       "  </thead>\n",
       "  <tbody>\n",
       "    <tr>\n",
       "      <th>0</th>\n",
       "      <td>0</td>\n",
       "      <td>9043 Carol Parks Suite 263\\nWalterston, MT 44378</td>\n",
       "      <td>M</td>\n",
       "      <td>72.221784</td>\n",
       "      <td>57.946745</td>\n",
       "      <td>Science</td>\n",
       "      <td>66.017455</td>\n",
       "      <td>Sci&amp;Tech</td>\n",
       "      <td>False</td>\n",
       "      <td>0</td>\n",
       "      <td>81.148549</td>\n",
       "      <td>Mkt&amp;HR</td>\n",
       "      <td>59.168630</td>\n",
       "      <td>NaN</td>\n",
       "      <td>False</td>\n",
       "      <td>NaT</td>\n",
       "      <td>NaT</td>\n",
       "      <td>3.0</td>\n",
       "    </tr>\n",
       "    <tr>\n",
       "      <th>1</th>\n",
       "      <td>1</td>\n",
       "      <td>258 Frank Wells Suite 366\\nLake Jasonmouth, MT...</td>\n",
       "      <td>F</td>\n",
       "      <td>46.896475</td>\n",
       "      <td>57.314392</td>\n",
       "      <td>Commerce</td>\n",
       "      <td>72.303363</td>\n",
       "      <td>Comm&amp;Mgmt</td>\n",
       "      <td>False</td>\n",
       "      <td>0</td>\n",
       "      <td>77.249931</td>\n",
       "      <td>Mkt&amp;Fin</td>\n",
       "      <td>63.402252</td>\n",
       "      <td>NaN</td>\n",
       "      <td>False</td>\n",
       "      <td>NaT</td>\n",
       "      <td>NaT</td>\n",
       "      <td>NaN</td>\n",
       "    </tr>\n",
       "    <tr>\n",
       "      <th>2</th>\n",
       "      <td>2</td>\n",
       "      <td>USNS Vincent\\nFPO AE 10509</td>\n",
       "      <td>M</td>\n",
       "      <td>80.260598</td>\n",
       "      <td>60.251931</td>\n",
       "      <td>Commerce</td>\n",
       "      <td>72.205782</td>\n",
       "      <td>Comm&amp;Mgmt</td>\n",
       "      <td>False</td>\n",
       "      <td>1</td>\n",
       "      <td>62.610035</td>\n",
       "      <td>Mkt&amp;Fin</td>\n",
       "      <td>53.313822</td>\n",
       "      <td>25789.084759</td>\n",
       "      <td>True</td>\n",
       "      <td>2020-01-28</td>\n",
       "      <td>2020-10-27</td>\n",
       "      <td>3.0</td>\n",
       "    </tr>\n",
       "    <tr>\n",
       "      <th>3</th>\n",
       "      <td>3</td>\n",
       "      <td>488 Derrick Rue Suite 229\\nMedinaland, RI 81352</td>\n",
       "      <td>F</td>\n",
       "      <td>44.024446</td>\n",
       "      <td>63.517838</td>\n",
       "      <td>Commerce</td>\n",
       "      <td>60.366966</td>\n",
       "      <td>Others</td>\n",
       "      <td>False</td>\n",
       "      <td>0</td>\n",
       "      <td>55.366576</td>\n",
       "      <td>Mkt&amp;Fin</td>\n",
       "      <td>65.619618</td>\n",
       "      <td>NaN</td>\n",
       "      <td>False</td>\n",
       "      <td>NaT</td>\n",
       "      <td>NaT</td>\n",
       "      <td>NaN</td>\n",
       "    </tr>\n",
       "    <tr>\n",
       "      <th>4</th>\n",
       "      <td>4</td>\n",
       "      <td>293 Hall Divide Apt. 725\\nMendozamouth, IN 46443</td>\n",
       "      <td>M</td>\n",
       "      <td>65.741258</td>\n",
       "      <td>79.950693</td>\n",
       "      <td>Commerce</td>\n",
       "      <td>67.103512</td>\n",
       "      <td>Comm&amp;Mgmt</td>\n",
       "      <td>False</td>\n",
       "      <td>-1</td>\n",
       "      <td>57.404917</td>\n",
       "      <td>Mkt&amp;Fin</td>\n",
       "      <td>51.133429</td>\n",
       "      <td>26874.289094</td>\n",
       "      <td>True</td>\n",
       "      <td>2020-03-02</td>\n",
       "      <td>2020-11-04</td>\n",
       "      <td>12.0</td>\n",
       "    </tr>\n",
       "  </tbody>\n",
       "</table>\n",
       "</div>"
      ],
      "text/plain": [
       "   student_id                                            address gender  \\\n",
       "0           0   9043 Carol Parks Suite 263\\nWalterston, MT 44378      M   \n",
       "1           1  258 Frank Wells Suite 366\\nLake Jasonmouth, MT...      F   \n",
       "2           2                         USNS Vincent\\nFPO AE 10509      M   \n",
       "3           3    488 Derrick Rue Suite 229\\nMedinaland, RI 81352      F   \n",
       "4           4   293 Hall Divide Apt. 725\\nMendozamouth, IN 46443      M   \n",
       "\n",
       "   second_perc  high_perc high_spec  degree_perc degree_type  work_experience  \\\n",
       "0    72.221784  57.946745   Science    66.017455    Sci&Tech            False   \n",
       "1    46.896475  57.314392  Commerce    72.303363   Comm&Mgmt            False   \n",
       "2    80.260598  60.251931  Commerce    72.205782   Comm&Mgmt            False   \n",
       "3    44.024446  63.517838  Commerce    60.366966      Others            False   \n",
       "4    65.741258  79.950693  Commerce    67.103512   Comm&Mgmt            False   \n",
       "\n",
       "   experience_years  employability_perc mba_spec   mba_perc        salary  \\\n",
       "0                 0           81.148549   Mkt&HR  59.168630           NaN   \n",
       "1                 0           77.249931  Mkt&Fin  63.402252           NaN   \n",
       "2                 1           62.610035  Mkt&Fin  53.313822  25789.084759   \n",
       "3                 0           55.366576  Mkt&Fin  65.619618           NaN   \n",
       "4                -1           57.404917  Mkt&Fin  51.133429  26874.289094   \n",
       "\n",
       "   placed start_date   end_date duration  \n",
       "0   False        NaT        NaT      3.0  \n",
       "1   False        NaT        NaT      NaN  \n",
       "2    True 2020-01-28 2020-10-27      3.0  \n",
       "3   False        NaT        NaT      NaN  \n",
       "4    True 2020-03-02 2020-11-04     12.0  "
      ]
     },
     "execution_count": 15,
     "metadata": {},
     "output_type": "execute_result"
    }
   ],
   "source": [
    "new_data_pii = model.sample(200)\n",
    "new_data_pii.head()"
   ]
  },
  {
   "cell_type": "markdown",
   "metadata": {},
   "source": [
    "Which means that none of the original addresses can be found in the\n",
    "sampled data:"
   ]
  },
  {
   "cell_type": "code",
   "execution_count": 16,
   "metadata": {
    "attributes": {
     "classes": [
      ""
     ],
     "id": ""
    }
   },
   "outputs": [
    {
     "data": {
      "text/plain": [
       "0"
      ]
     },
     "execution_count": 16,
     "metadata": {},
     "output_type": "execute_result"
    }
   ],
   "source": [
    "data_pii.address.isin(new_data_pii.address).sum()"
   ]
  },
  {
   "cell_type": "markdown",
   "metadata": {},
   "source": [
    "Advanced Usage\n",
    "--------------\n",
    "\n",
    "Now that we have discovered the basics, let\\'s go over a few more\n",
    "advanced usage examples and see the different arguments that we can pass\n",
    "to our `GaussianCopula` Model in order to customize it to our needs.\n",
    "\n",
    "### How to set transforms to use?\n",
    "\n",
    "One thing that you may have noticed when executing the previous steps is\n",
    "that the fitting process took much longer on the\n",
    "`student_placements_pii` dataset than it took on the previous version\n",
    "that did not contain the student `address`. This happens because the\n",
    "`address` field is interpreted as a categorical variable, which the\n",
    "`GaussianCopula` [one-hot\n",
    "encoded](https://en.wikipedia.org/wiki/One-hot) generating 215 new\n",
    "columns that it had to learn afterwards.\n",
    "\n",
    "This transformation, which in this case was very inefficient, happens\n",
    "because the Tabular Models apply [Reversible Data\n",
    "Transforms](https://github.com/sdv-dev/RDT) under the hood to transform\n",
    "all the non-numerical variables, which the underlying models cannot\n",
    "handle, into numerical representations which they can properly work\n",
    "with. In the case of the `GaussianCopula`, the default transformation is\n",
    "a One-Hot encoding, which can work very well with variables that have a\n",
    "little number of different values, but which is very inefficient in\n",
    "cases where there is a large number of values.\n",
    "\n",
    "For this reason, the Tabular Models have an additional argument called\n",
    "`field_transformers` that let you select which transformer to apply to\n",
    "each column. This `field_transformers` argument must be passed as a\n",
    "`dict` which contains the name of the fields for which we want to use a\n",
    "transformer different than the default, and the name of the transformer\n",
    "that we want to use.\n",
    "\n",
    "Possible transformer names are:\n",
    "\n",
    "-   `integer`: Uses a `NumericalTransformer` of dtype `int`.\n",
    "-   `float`: Uses a `NumericalTransformer` of dtype `float`.\n",
    "-   `categorical`: Uses a `CategoricalTransformer` without gaussian\n",
    "    noise.\n",
    "-   `categorical_fuzzy`: Uses a `CategoricalTransformer` adding gaussian\n",
    "    noise.\n",
    "-   `one_hot_encoding`: Uses a `OneHotEncodingTransformer`.\n",
    "-   `label_encoding`: Uses a `LabelEncodingTransformer`.\n",
    "-   `boolean`: Uses a `BooleanTransformer`.\n",
    "-   `datetime`: Uses a `DatetimeTransformer`.\n",
    "\n",
    "**NOTE**: For additional details about each one of the transformers,\n",
    "please visit [RDT](https://github.com/sdv-dev/RDT)\n",
    "\n",
    "Let\\'s now try to improve the previous fitting process by changing the\n",
    "transformer that we use for the `address` field to something other than\n",
    "the default. As an example, we will use the `label_encoding`\n",
    "transformer, which instead of generating one column for each possible\n",
    "value, it just replaces each value with a unique integer value."
   ]
  },
  {
   "cell_type": "code",
   "execution_count": 17,
   "metadata": {
    "attributes": {
     "classes": [
      ""
     ],
     "id": ""
    }
   },
   "outputs": [
    {
     "data": {
      "text/html": [
       "<div>\n",
       "<style scoped>\n",
       "    .dataframe tbody tr th:only-of-type {\n",
       "        vertical-align: middle;\n",
       "    }\n",
       "\n",
       "    .dataframe tbody tr th {\n",
       "        vertical-align: top;\n",
       "    }\n",
       "\n",
       "    .dataframe thead th {\n",
       "        text-align: right;\n",
       "    }\n",
       "</style>\n",
       "<table border=\"1\" class=\"dataframe\">\n",
       "  <thead>\n",
       "    <tr style=\"text-align: right;\">\n",
       "      <th></th>\n",
       "      <th>student_id</th>\n",
       "      <th>address</th>\n",
       "      <th>gender</th>\n",
       "      <th>second_perc</th>\n",
       "      <th>high_perc</th>\n",
       "      <th>high_spec</th>\n",
       "      <th>degree_perc</th>\n",
       "      <th>degree_type</th>\n",
       "      <th>work_experience</th>\n",
       "      <th>experience_years</th>\n",
       "      <th>employability_perc</th>\n",
       "      <th>mba_spec</th>\n",
       "      <th>mba_perc</th>\n",
       "      <th>salary</th>\n",
       "      <th>placed</th>\n",
       "      <th>start_date</th>\n",
       "      <th>end_date</th>\n",
       "      <th>duration</th>\n",
       "    </tr>\n",
       "  </thead>\n",
       "  <tbody>\n",
       "    <tr>\n",
       "      <th>0</th>\n",
       "      <td>0</td>\n",
       "      <td>13894 Knox Path\\nNew Warrenbury, VT 68690</td>\n",
       "      <td>F</td>\n",
       "      <td>61.446377</td>\n",
       "      <td>66.912114</td>\n",
       "      <td>Commerce</td>\n",
       "      <td>78.547991</td>\n",
       "      <td>Comm&amp;Mgmt</td>\n",
       "      <td>False</td>\n",
       "      <td>0</td>\n",
       "      <td>87.218563</td>\n",
       "      <td>Mkt&amp;Fin</td>\n",
       "      <td>56.069760</td>\n",
       "      <td>24227.007780</td>\n",
       "      <td>True</td>\n",
       "      <td>2020-06-04</td>\n",
       "      <td>2020-08-12</td>\n",
       "      <td>3.0</td>\n",
       "    </tr>\n",
       "    <tr>\n",
       "      <th>1</th>\n",
       "      <td>1</td>\n",
       "      <td>49018 Thomas Fields\\nAprilview, IN 51497</td>\n",
       "      <td>M</td>\n",
       "      <td>70.612219</td>\n",
       "      <td>62.330744</td>\n",
       "      <td>Commerce</td>\n",
       "      <td>61.379353</td>\n",
       "      <td>Comm&amp;Mgmt</td>\n",
       "      <td>False</td>\n",
       "      <td>1</td>\n",
       "      <td>87.821987</td>\n",
       "      <td>Mkt&amp;Fin</td>\n",
       "      <td>57.539200</td>\n",
       "      <td>31610.023673</td>\n",
       "      <td>True</td>\n",
       "      <td>2020-03-09</td>\n",
       "      <td>2020-12-05</td>\n",
       "      <td>12.0</td>\n",
       "    </tr>\n",
       "    <tr>\n",
       "      <th>2</th>\n",
       "      <td>2</td>\n",
       "      <td>USNV Garcia\\nFPO AP 94993</td>\n",
       "      <td>F</td>\n",
       "      <td>65.407636</td>\n",
       "      <td>66.245252</td>\n",
       "      <td>Commerce</td>\n",
       "      <td>62.997327</td>\n",
       "      <td>Sci&amp;Tech</td>\n",
       "      <td>False</td>\n",
       "      <td>1</td>\n",
       "      <td>68.359459</td>\n",
       "      <td>Mkt&amp;HR</td>\n",
       "      <td>58.317207</td>\n",
       "      <td>NaN</td>\n",
       "      <td>False</td>\n",
       "      <td>NaT</td>\n",
       "      <td>NaT</td>\n",
       "      <td>NaN</td>\n",
       "    </tr>\n",
       "    <tr>\n",
       "      <th>3</th>\n",
       "      <td>3</td>\n",
       "      <td>10350 Donovan Lodge\\nPort Brandi, GA 75359</td>\n",
       "      <td>M</td>\n",
       "      <td>65.410272</td>\n",
       "      <td>45.880416</td>\n",
       "      <td>Science</td>\n",
       "      <td>60.219863</td>\n",
       "      <td>Sci&amp;Tech</td>\n",
       "      <td>False</td>\n",
       "      <td>0</td>\n",
       "      <td>55.366487</td>\n",
       "      <td>Mkt&amp;Fin</td>\n",
       "      <td>59.489872</td>\n",
       "      <td>29747.798495</td>\n",
       "      <td>True</td>\n",
       "      <td>2020-02-01</td>\n",
       "      <td>2020-08-22</td>\n",
       "      <td>3.0</td>\n",
       "    </tr>\n",
       "    <tr>\n",
       "      <th>4</th>\n",
       "      <td>4</td>\n",
       "      <td>71372 Zimmerman Oval Apt. 006\\nJessicaville, A...</td>\n",
       "      <td>M</td>\n",
       "      <td>64.034914</td>\n",
       "      <td>72.294830</td>\n",
       "      <td>Commerce</td>\n",
       "      <td>63.277342</td>\n",
       "      <td>Comm&amp;Mgmt</td>\n",
       "      <td>False</td>\n",
       "      <td>0</td>\n",
       "      <td>64.027038</td>\n",
       "      <td>Mkt&amp;HR</td>\n",
       "      <td>52.922011</td>\n",
       "      <td>36037.616309</td>\n",
       "      <td>True</td>\n",
       "      <td>2020-01-02</td>\n",
       "      <td>2020-08-04</td>\n",
       "      <td>3.0</td>\n",
       "    </tr>\n",
       "  </tbody>\n",
       "</table>\n",
       "</div>"
      ],
      "text/plain": [
       "   student_id                                            address gender  \\\n",
       "0           0          13894 Knox Path\\nNew Warrenbury, VT 68690      F   \n",
       "1           1           49018 Thomas Fields\\nAprilview, IN 51497      M   \n",
       "2           2                          USNV Garcia\\nFPO AP 94993      F   \n",
       "3           3         10350 Donovan Lodge\\nPort Brandi, GA 75359      M   \n",
       "4           4  71372 Zimmerman Oval Apt. 006\\nJessicaville, A...      M   \n",
       "\n",
       "   second_perc  high_perc high_spec  degree_perc degree_type  work_experience  \\\n",
       "0    61.446377  66.912114  Commerce    78.547991   Comm&Mgmt            False   \n",
       "1    70.612219  62.330744  Commerce    61.379353   Comm&Mgmt            False   \n",
       "2    65.407636  66.245252  Commerce    62.997327    Sci&Tech            False   \n",
       "3    65.410272  45.880416   Science    60.219863    Sci&Tech            False   \n",
       "4    64.034914  72.294830  Commerce    63.277342   Comm&Mgmt            False   \n",
       "\n",
       "   experience_years  employability_perc mba_spec   mba_perc        salary  \\\n",
       "0                 0           87.218563  Mkt&Fin  56.069760  24227.007780   \n",
       "1                 1           87.821987  Mkt&Fin  57.539200  31610.023673   \n",
       "2                 1           68.359459   Mkt&HR  58.317207           NaN   \n",
       "3                 0           55.366487  Mkt&Fin  59.489872  29747.798495   \n",
       "4                 0           64.027038   Mkt&HR  52.922011  36037.616309   \n",
       "\n",
       "   placed start_date   end_date duration  \n",
       "0    True 2020-06-04 2020-08-12      3.0  \n",
       "1    True 2020-03-09 2020-12-05     12.0  \n",
       "2   False        NaT        NaT      NaN  \n",
       "3    True 2020-02-01 2020-08-22      3.0  \n",
       "4    True 2020-01-02 2020-08-04      3.0  "
      ]
     },
     "execution_count": 17,
     "metadata": {},
     "output_type": "execute_result"
    }
   ],
   "source": [
    "model = GaussianCopula(\n",
    "    primary_key='student_id',\n",
    "    anonymize_fields={\n",
    "        'address': 'address'\n",
    "    },\n",
    "    field_transformers={\n",
    "        'address': 'label_encoding'\n",
    "    }\n",
    ")\n",
    "model.fit(data_pii)\n",
    "new_data_pii = model.sample(200)\n",
    "new_data_pii.head()"
   ]
  },
  {
   "cell_type": "markdown",
   "metadata": {},
   "source": [
    "### Exploring the Probability Distributions\n",
    "\n",
    "During the previous steps, every time we fitted the `GaussianCopula` it\n",
    "performed the following operations:\n",
    "\n",
    "1.  Learn the format and data types of the passed data\n",
    "2.  Transform the non-numerical and null data using [Reversible Data\n",
    "    Transforms](https://github.com/sdv-dev/RDT) to obtain a fully\n",
    "    numerical representation of the data from which we can learn the\n",
    "    probability distributions.\n",
    "3.  Learn the probability distribution of each column from the table\n",
    "4.  Transform the values of each numerical column by converting them to\n",
    "    their marginal distribution CDF values and then applying an inverse\n",
    "    CDF transformation of a standard normal on them.\n",
    "5.  Learn the correlations of the newly generated random variables.\n",
    "\n",
    "After this, when we used the model to generate new data for our table\n",
    "using the `sample` method, it did:\n",
    "\n",
    "5.  Sample from a Multivariate Standard Normal distribution with the\n",
    "    learned correlations.\n",
    "6.  Revert the sampled values by computing their standard normal CDF and\n",
    "    then applying the inverse CDF of their marginal distributions.\n",
    "7.  Revert the RDT transformations to go back to the original data\n",
    "    format.\n",
    "\n",
    "As you can see, during these steps the *Marginal Probability\n",
    "Distributions* have a very important role, since the `GaussianCopula`\n",
    "had to learn and reproduce the individual distributions of each column\n",
    "in our table. We can explore the distributions which the\n",
    "`GaussianCopula` used to model each column using its `get_distributions`\n",
    "method:"
   ]
  },
  {
   "cell_type": "code",
   "execution_count": 18,
   "metadata": {
    "attributes": {
     "classes": [
      ""
     ],
     "id": ""
    }
   },
   "outputs": [],
   "source": [
    "model = GaussianCopula(\n",
    "    primary_key='student_id'\n",
    ")\n",
    "model.fit(data)\n",
    "distributions = model.get_distributions()"
   ]
  },
  {
   "cell_type": "markdown",
   "metadata": {},
   "source": [
    "This will return us a `dict` which contains the name of the distribution\n",
    "class used for each column:"
   ]
  },
  {
   "cell_type": "code",
   "execution_count": 19,
   "metadata": {
    "attributes": {
     "classes": [
      ""
     ],
     "id": ""
    }
   },
   "outputs": [
    {
     "data": {
      "text/plain": [
       "{'gender#0': 'copulas.univariate.gaussian.GaussianUnivariate',\n",
       " 'gender#1': 'copulas.univariate.gaussian.GaussianUnivariate',\n",
       " 'second_perc': 'copulas.univariate.truncated_gaussian.TruncatedGaussian',\n",
       " 'high_perc': 'copulas.univariate.log_laplace.LogLaplace',\n",
       " 'high_spec#0': 'copulas.univariate.gaussian.GaussianUnivariate',\n",
       " 'high_spec#1': 'copulas.univariate.gamma.GammaUnivariate',\n",
       " 'high_spec#2': 'copulas.univariate.gaussian.GaussianUnivariate',\n",
       " 'degree_perc': 'copulas.univariate.student_t.StudentTUnivariate',\n",
       " 'degree_type#0': 'copulas.univariate.student_t.StudentTUnivariate',\n",
       " 'degree_type#1': 'copulas.univariate.gaussian.GaussianUnivariate',\n",
       " 'degree_type#2': 'copulas.univariate.gaussian.GaussianUnivariate',\n",
       " 'work_experience': 'copulas.univariate.student_t.StudentTUnivariate',\n",
       " 'experience_years': 'copulas.univariate.gaussian.GaussianUnivariate',\n",
       " 'employability_perc': 'copulas.univariate.truncated_gaussian.TruncatedGaussian',\n",
       " 'mba_spec#0': 'copulas.univariate.gamma.GammaUnivariate',\n",
       " 'mba_spec#1': 'copulas.univariate.gaussian.GaussianUnivariate',\n",
       " 'mba_perc': 'copulas.univariate.gamma.GammaUnivariate',\n",
       " 'salary#0': 'copulas.univariate.gamma.GammaUnivariate',\n",
       " 'salary#1': 'copulas.univariate.gaussian.GaussianUnivariate',\n",
       " 'placed': 'copulas.univariate.gamma.GammaUnivariate',\n",
       " 'start_date#0': 'copulas.univariate.gamma.GammaUnivariate',\n",
       " 'start_date#1': 'copulas.univariate.gaussian.GaussianUnivariate',\n",
       " 'end_date#0': 'copulas.univariate.gamma.GammaUnivariate',\n",
       " 'end_date#1': 'copulas.univariate.gaussian.GaussianUnivariate',\n",
       " 'duration#0': 'copulas.univariate.gaussian.GaussianUnivariate',\n",
       " 'duration#1': 'copulas.univariate.gaussian.GaussianUnivariate',\n",
       " 'duration#2': 'copulas.univariate.student_t.StudentTUnivariate',\n",
       " 'duration#3': 'copulas.univariate.gaussian.GaussianUnivariate'}"
      ]
     },
     "execution_count": 19,
     "metadata": {},
     "output_type": "execute_result"
    }
   ],
   "source": [
    "distributions"
   ]
  },
  {
   "cell_type": "markdown",
   "metadata": {},
   "source": [
    "<div class=\"alert alert-info\">\n",
    "\n",
    "**Note**\n",
    "\n",
    "In this list we will see multiple distributions for each one of the\n",
    "columns that we have in our data. This is because the RDT\n",
    "transformations used to encode the data numerically often use more than\n",
    "one column to represent each one of the input variables.\n",
    "\n",
    "</div>\n",
    "\n",
    "Let\\'s explore the individual distribution of one of the columns in our\n",
    "data to better understand how the `GaussianCopula` processed them and\n",
    "see if we can improve the results by manually specifying a different\n",
    "distribution. For example, let\\'s explore the `experience_years` column\n",
    "by looking at the frequency of its values within the original data:"
   ]
  },
  {
   "cell_type": "code",
   "execution_count": 20,
   "metadata": {
    "attributes": {
     "classes": [
      ""
     ],
     "id": ""
    }
   },
   "outputs": [
    {
     "data": {
      "text/plain": [
       "0    141\n",
       "1     65\n",
       "2      8\n",
       "3      1\n",
       "Name: experience_years, dtype: int64"
      ]
     },
     "execution_count": 20,
     "metadata": {},
     "output_type": "execute_result"
    }
   ],
   "source": [
    "data.experience_years.value_counts()"
   ]
  },
  {
   "cell_type": "code",
   "execution_count": 21,
   "metadata": {
    "attributes": {
     "classes": [
      ""
     ],
     "id": ""
    }
   },
   "outputs": [
    {
     "data": {
      "image/png": "[encoded data removed]",
      "text/plain": [
       "<Figure size 432x288 with 1 Axes>"
      ]
     },
     "metadata": {
      "needs_background": "light"
     },
     "output_type": "display_data"
    }
   ],
   "source": [
    "data.experience_years.hist();"
   ]
  },
  {
   "cell_type": "markdown",
   "metadata": {},
   "source": [
    "By observing the data we can see that the behavior of the values in this\n",
    "column is very similar to a Gamma or even some types of Beta\n",
    "distribution, where the majority of the values are 0 and the frequency\n",
    "decreases as the values increase.\n",
    "\n",
    "Was the `GaussianCopula` able to capture this distribution on its own?"
   ]
  },
  {
   "cell_type": "code",
   "execution_count": 22,
   "metadata": {
    "attributes": {
     "classes": [
      ""
     ],
     "id": ""
    }
   },
   "outputs": [
    {
     "data": {
      "text/plain": [
       "'copulas.univariate.gaussian.GaussianUnivariate'"
      ]
     },
     "execution_count": 22,
     "metadata": {},
     "output_type": "execute_result"
    }
   ],
   "source": [
    "distributions['experience_years']"
   ]
  },
  {
   "cell_type": "markdown",
   "metadata": {},
   "source": [
    "It seems that the it was not, as it rather thought that the behavior was\n",
    "closer to a Gaussian distribution. And, as a result, we can see how the\n",
    "generated values now contain negative values which are invalid for this\n",
    "column:"
   ]
  },
  {
   "cell_type": "code",
   "execution_count": 23,
   "metadata": {
    "attributes": {
     "classes": [
      ""
     ],
     "id": ""
    }
   },
   "outputs": [
    {
     "data": {
      "text/plain": [
       " 0    102\n",
       " 1     74\n",
       "-1     14\n",
       " 2     10\n",
       "Name: experience_years, dtype: int64"
      ]
     },
     "execution_count": 23,
     "metadata": {},
     "output_type": "execute_result"
    }
   ],
   "source": [
    "new_data.experience_years.value_counts()"
   ]
  },
  {
   "cell_type": "code",
   "execution_count": 24,
   "metadata": {
    "attributes": {
     "classes": [
      ""
     ],
     "id": ""
    }
   },
   "outputs": [
    {
     "data": {
      "image/png": "[encoded data removed]",
      "text/plain": [
       "<Figure size 432x288 with 1 Axes>"
      ]
     },
     "metadata": {
      "needs_background": "light"
     },
     "output_type": "display_data"
    }
   ],
   "source": [
    "new_data.experience_years.hist();"
   ]
  },
  {
   "cell_type": "markdown",
   "metadata": {},
   "source": [
    "Let\\'s see how we can improve this situation by passing the\n",
    "`GaussianCopula` the exact distribution that we want it to use for this\n",
    "column.\n",
    "\n",
    "### Setting distributions for individual variables\n",
    "\n",
    "The `GaussianCopula` class offers the possibility to indicate which\n",
    "distribution to use for each one of the columns in the table, in order\n",
    "to solve situations like the one that we just described. In order to do\n",
    "this, we need to pass a `field_distributions` argument with `dict` that\n",
    "indicates the distribution that we want to use for each column.\n",
    "\n",
    "Possible values for the distribution argument are:\n",
    "\n",
    "-   `univariate`: Let `copulas` select the optimal univariate\n",
    "    distribution. This may result in non-parametric models being used.\n",
    "-   `parametric`: Let `copulas` select the optimal univariate\n",
    "    distribution, but restrict the selection to parametric distributions\n",
    "    only.\n",
    "-   `bounded`: Let `copulas` select the optimal univariate distribution,\n",
    "    but restrict the selection to bounded distributions only. This may\n",
    "    result in non-parametric models being used.\n",
    "-   `semi_bounded`: Let `copulas` select the optimal univariate\n",
    "    distribution, but restrict the selection to semi-bounded\n",
    "    distributions only. This may result in non-parametric models being\n",
    "    used.\n",
    "-   `parametric_bounded`: Let `copulas` select the optimal univariate\n",
    "    distribution, but restrict the selection to parametric and bounded\n",
    "    distributions only.\n",
    "-   `parametric_semi_bounded`: Let `copulas` select the optimal\n",
    "    univariate distribution, but restrict the selection to parametric\n",
    "    and semi-bounded distributions only.\n",
    "-   `gaussian`: Use a Gaussian distribution.\n",
    "-   `gamma`: Use a Gamma distribution.\n",
    "-   `beta`: Use a Beta distribution.\n",
    "-   `student_t`: Use a Student T distribution.\n",
    "-   `gaussian_kde`: Use a GaussianKDE distribution. This model is\n",
    "    non-parametric, so using this will make `get_parameters` unusable.\n",
    "-   `truncated_gaussian`: Use a Truncated Gaussian distribution.\n",
    "\n",
    "Let\\'s see what happens if we make the `GaussianCopula` use the `gamma`\n",
    "distribution for our column."
   ]
  },
  {
   "cell_type": "code",
   "execution_count": 25,
   "metadata": {
    "attributes": {
     "classes": [
      ""
     ],
     "id": ""
    }
   },
   "outputs": [],
   "source": [
    "from sdv.tabular import GaussianCopula\n",
    "\n",
    "model = GaussianCopula(\n",
    "    primary_key='student_id',\n",
    "    field_distributions={\n",
    "        'experience_years': 'gamma'\n",
    "    }\n",
    ")\n",
    "model.fit(data)"
   ]
  },
  {
   "cell_type": "markdown",
   "metadata": {},
   "source": [
    "After this, we can see how the `GaussianCopula` used the indicated\n",
    "distribution for the `experience_years` column"
   ]
  },
  {
   "cell_type": "code",
   "execution_count": 26,
   "metadata": {
    "attributes": {
     "classes": [
      ""
     ],
     "id": ""
    }
   },
   "outputs": [
    {
     "data": {
      "text/plain": [
       "'copulas.univariate.gamma.GammaUnivariate'"
      ]
     },
     "execution_count": 26,
     "metadata": {},
     "output_type": "execute_result"
    }
   ],
   "source": [
    "model.get_distributions()['experience_years']"
   ]
  },
  {
   "cell_type": "markdown",
   "metadata": {},
   "source": [
    "And, as a result, now we can see how the generated data now have a\n",
    "behavior which is closer to the original data and always stays within\n",
    "the valid values range."
   ]
  },
  {
   "cell_type": "code",
   "execution_count": 27,
   "metadata": {
    "attributes": {
     "classes": [
      ""
     ],
     "id": ""
    }
   },
   "outputs": [
    {
     "data": {
      "text/plain": [
       "0    198\n",
       "1     17\n",
       "Name: experience_years, dtype: int64"
      ]
     },
     "execution_count": 27,
     "metadata": {},
     "output_type": "execute_result"
    }
   ],
   "source": [
    "new_data = model.sample(len(data))\n",
    "new_data.experience_years.value_counts()"
   ]
  },
  {
   "cell_type": "code",
   "execution_count": 28,
   "metadata": {
    "attributes": {
     "classes": [
      ""
     ],
     "id": ""
    }
   },
   "outputs": [
    {
     "data": {
      "image/png": "[encoded data removed]",
      "text/plain": [
       "<Figure size 432x288 with 1 Axes>"
      ]
     },
     "metadata": {
      "needs_background": "light"
     },
     "output_type": "display_data"
    }
   ],
   "source": [
    "new_data.experience_years.hist();"
   ]
  },
  {
   "cell_type": "markdown",
   "metadata": {},
   "source": [
    "<div class=\"alert alert-info\">\n",
    "\n",
    "**Note**\n",
    "\n",
    "Even though there are situations like the one show above where manually\n",
    "choosing a distribution seems to give better results, in most cases the\n",
    "`GaussianCopula` will be able to find the optimal distribution on its\n",
    "own, making this manual search of the marginal distributions necessary\n",
    "on very little occasions.\n",
    "\n",
    "</div>\n",
    "\n",
    "### How do I specify constraints?\n",
    "\n",
    "If you look closely at the data you may notice that some properties were\n",
    "not completely captured by the model. For example, you may have seen\n",
    "that sometimes the model produces an `experience_years` number greater\n",
    "than `0` while also indicating that `work_experience` is `False`. These\n",
    "type of properties are what we call `Constraints` and can also be\n",
    "handled using `SDV`. For further details about them please visit the\n",
    "[Handling Constraints](04_Handling_Constraints.ipynb) guide.\n",
    "\n",
    "### Can I evaluate the Synthetic Data?\n",
    "\n",
    "A very common question when someone starts using **SDV** to generate\n",
    "synthetic data is: *\\\"How good is the data that I just generated?\\\"*\n",
    "\n",
    "In order to answer this question, **SDV** has a collection of metrics\n",
    "and tools that allow you to compare the *real* that you provided and the\n",
    "*synthetic* data that you generated using **SDV** or any other tool.\n",
    "\n",
    "You can read more about this in the [Evaluating Synthetic Data Generators](\n",
    "05_Evaluating_Synthetic_Data_Generators.ipynb) guide."
   ]
  }
 ],
 "metadata": {
  "kernelspec": {
   "display_name": "Python 3",
   "language": "python",
   "name": "python3"
  },
  "language_info": {
   "codemirror_mode": {
    "name": "ipython",
    "version": 3
   },
   "file_extension": ".py",
   "mimetype": "text/x-python",
   "name": "python",
   "nbconvert_exporter": "python",
   "pygments_lexer": "ipython3",
   "version": "3.8.5"
  }
 },
 "nbformat": 4,
 "nbformat_minor": 4
}
